{
 "cells": [
  {
   "cell_type": "code",
   "execution_count": 175,
   "metadata": {},
   "outputs": [],
   "source": [
    "from IPython.display import Image\n",
    "from IPython.core.display import HTML \n",
    "from IPython.display import display, Math, Latex\n",
    "import matplotlib.pyplot as plt\n",
    "import numpy as np\n",
    "from numpy import linalg as la\n",
    "from math import factorial"
   ]
  },
  {
   "cell_type": "markdown",
   "metadata": {},
   "source": [
    "### Матрицы и матричные операции, Часть 1"
   ]
  },
  {
   "cell_type": "markdown",
   "metadata": {},
   "source": [
    "__1.__ Установить, какие произведения матриц $AB$ и $BA$ определены, и найти размерности полученных матриц:"
   ]
  },
  {
   "cell_type": "markdown",
   "metadata": {},
   "source": [
    "***\n",
    "а)  A  — матрица  4×2 ,  B  — матрица  4×2 ;\n",
    "\n",
    "б)  A  — матрица  2×5 ,  B  — матрица  5×3 ;\n",
    "\n",
    "в)  A  — матрица  8×3 ,  B  — матрица  3×8 ;\n",
    "\n",
    "г)  A  — квадратная матрица  4×4 ,  B  — квадратная матрица  4×4 .\n",
    "***"
   ]
  },
  {
   "cell_type": "markdown",
   "metadata": {},
   "source": [
    "***\n",
    "a) Произведение невозможно\n",
    "\n",
    "б) Произведение невозможно\n",
    "\n",
    "в) Произведение возможно\n",
    "\n",
    "г) Произведение возможно\n",
    "***"
   ]
  },
  {
   "cell_type": "markdown",
   "metadata": {},
   "source": [
    "__2.__ Найти сумму и произведение матриц $A=\\begin{pmatrix}\n",
    "1 & -2\\\\ \n",
    "3 & 0\n",
    "\\end{pmatrix}$ и $B=\\begin{pmatrix}\n",
    "4 & -1\\\\ \n",
    "0 & 5\n",
    "\\end{pmatrix}.$"
   ]
  },
  {
   "cell_type": "code",
   "execution_count": 176,
   "metadata": {},
   "outputs": [
    {
     "data": {
      "text/latex": [
       "$\\displaystyle A + B = \\begin{bmatrix}1 & -2 \\\\ 3 & 0 \\end{bmatrix} + \\begin{bmatrix} 4 & -1 \\\\ 0 & 5 \\end{bmatrix} = \\begin{bmatrix} 5 & -3 \\\\ 3 & 5 \\end{bmatrix}$"
      ],
      "text/plain": [
       "<IPython.core.display.Math object>"
      ]
     },
     "metadata": {},
     "output_type": "display_data"
    }
   ],
   "source": [
    "# Сумма\n",
    "display(Math(r'A + B = \\begin{bmatrix}1 & -2 \\\\ 3 & 0 \\end{bmatrix} + \\begin{bmatrix} 4 & -1 \\\\ 0 & 5 \\end{bmatrix} = \\begin{bmatrix} 5 & -3 \\\\ 3 & 5 \\end{bmatrix}'))"
   ]
  },
  {
   "cell_type": "code",
   "execution_count": 177,
   "metadata": {},
   "outputs": [
    {
     "data": {
      "text/plain": [
       "array([[ 5, -3],\n",
       "       [ 3,  5]])"
      ]
     },
     "execution_count": 177,
     "metadata": {},
     "output_type": "execute_result"
    }
   ],
   "source": [
    "A = np.array([[1, -2], [3, 0]])\n",
    "B = np.array([[4, -1], [0, 5]])\n",
    "A + B"
   ]
  },
  {
   "cell_type": "code",
   "execution_count": 178,
   "metadata": {},
   "outputs": [
    {
     "data": {
      "text/latex": [
       "$\\displaystyle A * B = \\begin{bmatrix} 1 & -2 \\\\ 3 & 0 \\end{bmatrix} + \\begin{bmatrix} 4 & -1 \\\\ 0 & 5 \\end{bmatrix} = \\begin{bmatrix} (1*4 + (-2)*0) & (1*(-1) + (-2)*5) \\\\ (3*4 + 0*0) & (3*(-1) + 0*5) \\end{bmatrix} = \\begin{bmatrix} 4 & -11 \\\\ 12 & -3 \\end{bmatrix}$"
      ],
      "text/plain": [
       "<IPython.core.display.Math object>"
      ]
     },
     "metadata": {},
     "output_type": "display_data"
    }
   ],
   "source": [
    "# Произведение\n",
    "display(Math(r'A * B = \\begin{bmatrix} 1 & -2 \\\\ 3 & 0 \\end{bmatrix} + \\begin{bmatrix} 4 & -1 \\\\ 0 & 5 \\end{bmatrix} = \\begin{bmatrix} (1*4 + (-2)*0) & (1*(-1) + (-2)*5) \\\\ (3*4 + 0*0) & (3*(-1) + 0*5) \\end{bmatrix} = \\begin{bmatrix} 4 & -11 \\\\ 12 & -3 \\end{bmatrix}'))"
   ]
  },
  {
   "cell_type": "code",
   "execution_count": 179,
   "metadata": {},
   "outputs": [
    {
     "data": {
      "text/plain": [
       "array([[  4, -11],\n",
       "       [ 12,  -3]])"
      ]
     },
     "execution_count": 179,
     "metadata": {},
     "output_type": "execute_result"
    }
   ],
   "source": [
    "A = np.array([[1, -2], [3, 0]])\n",
    "B = np.array([[4, -1], [0, 5]])\n",
    "A@B "
   ]
  },
  {
   "cell_type": "markdown",
   "metadata": {},
   "source": [
    "__3.__ Из закономерностей сложения и умножения матриц на число можно сделать вывод, что матрицы одного размера образуют линейное пространство. Вычислить линейную комбинацию $3A-2B+4C$ для матриц $A=\\begin{pmatrix}\n",
    "1 & 7\\\\ \n",
    "3 & -6\n",
    "\\end{pmatrix}$, $B=\\begin{pmatrix}\n",
    "0 & 5\\\\ \n",
    "2 & -1\n",
    "\\end{pmatrix}$, $C=\\begin{pmatrix}\n",
    "2 & -4\\\\ \n",
    "1 & 1\n",
    "\\end{pmatrix}.$"
   ]
  },
  {
   "cell_type": "code",
   "execution_count": 180,
   "metadata": {},
   "outputs": [
    {
     "data": {
      "text/latex": [
       "$\\displaystyle 3𝐴−2𝐵+4𝐶 = 3 * \\begin{bmatrix} 1 & 7 \\\\ 3 & -6 \\end{bmatrix} - 2 * \\begin{bmatrix} 0 & 5 \\\\ 2 & -1 \\end{bmatrix} + 4 * \\begin{bmatrix} 2 & -4 \\\\ 1 & 1 \\end{bmatrix} = $"
      ],
      "text/plain": [
       "<IPython.core.display.Math object>"
      ]
     },
     "metadata": {},
     "output_type": "display_data"
    }
   ],
   "source": [
    "display(Math(r'3𝐴−2𝐵+4𝐶 = 3 * \\begin{bmatrix} 1 & 7 \\\\ 3 & -6 \\end{bmatrix} - 2 * \\begin{bmatrix} 0 & 5 \\\\ 2 & -1 \\end{bmatrix} + 4 * \\begin{bmatrix} 2 & -4 \\\\ 1 & 1 \\end{bmatrix} = '))"
   ]
  },
  {
   "cell_type": "code",
   "execution_count": 181,
   "metadata": {},
   "outputs": [
    {
     "data": {
      "text/latex": [
       "$\\displaystyle 3𝐴−2𝐵+4𝐶 = \\begin{bmatrix} 3 & 21 \\\\ 9 & -18 \\end{bmatrix} - \\begin{bmatrix} 0 & 10 \\\\ 4 & -2 \\end{bmatrix} + \\begin{bmatrix} 8 & -16 \\\\ 4 & 4 \\end{bmatrix} = \\begin{bmatrix} 3 & 11 \\\\ 5 & -16 \\end{bmatrix} + \\begin{bmatrix} 8 & -16 \\\\ 4 & 4 \\end{bmatrix} = \\begin{bmatrix} 11 & -5 \\\\ 9 & -16 \\end{bmatrix}$"
      ],
      "text/plain": [
       "<IPython.core.display.Math object>"
      ]
     },
     "metadata": {},
     "output_type": "display_data"
    }
   ],
   "source": [
    "display(Math(r'3𝐴−2𝐵+4𝐶 = \\begin{bmatrix} 3 & 21 \\\\ 9 & -18 \\end{bmatrix} - \\begin{bmatrix} 0 & 10 \\\\ 4 & -2 \\end{bmatrix} + \\begin{bmatrix} 8 & -16 \\\\ 4 & 4 \\end{bmatrix} = \\begin{bmatrix} 3 & 11 \\\\ 5 & -16 \\end{bmatrix} + \\begin{bmatrix} 8 & -16 \\\\ 4 & 4 \\end{bmatrix} = \\begin{bmatrix} 11 & -5 \\\\ 9 & -16 \\end{bmatrix}'))"
   ]
  },
  {
   "cell_type": "code",
   "execution_count": 182,
   "metadata": {},
   "outputs": [
    {
     "data": {
      "text/plain": [
       "array([[ 11,  -5],\n",
       "       [  9, -12]])"
      ]
     },
     "execution_count": 182,
     "metadata": {},
     "output_type": "execute_result"
    }
   ],
   "source": [
    "A = np.array([[1, 7], [3, -6]])\n",
    "B = np.array([[0, 5], [2, -1]])\n",
    "C = np.array([[2, -4], [1, 1]])\n",
    "3*A-2*B+4*C "
   ]
  },
  {
   "cell_type": "markdown",
   "metadata": {},
   "source": [
    "__4.__ Дана матрица $A=\\begin{pmatrix}\n",
    "4 & 1\\\\ \n",
    "5 & -2\\\\ \n",
    "2 & 3\n",
    "\\end{pmatrix}$.\n",
    "Вычислить $AA^{T}$ и $A^{T}A$."
   ]
  },
  {
   "cell_type": "code",
   "execution_count": 183,
   "metadata": {},
   "outputs": [
    {
     "data": {
      "text/latex": [
       "$\\displaystyle A = \\begin{bmatrix} 4 & 1 \\\\ 5 & -2 \\\\ 2 & 3 \\end{bmatrix}, A^T = \\begin{bmatrix} 4 & 5 & 2 \\\\ 1 & -2 & 3 \\end{bmatrix}$"
      ],
      "text/plain": [
       "<IPython.core.display.Math object>"
      ]
     },
     "metadata": {},
     "output_type": "display_data"
    }
   ],
   "source": [
    "display(Math(r'A = \\begin{bmatrix} 4 & 1 \\\\ 5 & -2 \\\\ 2 & 3 \\end{bmatrix}, A^T = \\begin{bmatrix} 4 & 5 & 2 \\\\ 1 & -2 & 3 \\end{bmatrix}'))"
   ]
  },
  {
   "cell_type": "code",
   "execution_count": 184,
   "metadata": {},
   "outputs": [
    {
     "data": {
      "text/latex": [
       "$\\displaystyle A * A^T = \\begin{bmatrix} 4 & 1 \\\\ 5 & -2 \\\\ 2 & 3 \\end{bmatrix} * \\begin{bmatrix} 4 & 5 & 2 \\\\ 1 & -2 & 3 \\end{bmatrix} = \\begin{bmatrix} (4*4 + 1*1) & (4*5 + 1*(-2)) & (4*2 + 1*3) \\\\ (5*4 + (-2)*1) & (5*5 + (-2)*(-2)) & (5*2 + (-2)*3) \\\\ (2*4 + 3*1) & (2*5 + 3*(-2)) & (2*2 + 3*3) \\end{bmatrix} = \\begin{bmatrix} 17 & 18 & 11 \\\\ 18 & 29 & 4 \\\\ 11 & 4 & 13 \\end{bmatrix}$"
      ],
      "text/plain": [
       "<IPython.core.display.Math object>"
      ]
     },
     "metadata": {},
     "output_type": "display_data"
    }
   ],
   "source": [
    "display(Math(r'A * A^T = \\begin{bmatrix} 4 & 1 \\\\ 5 & -2 \\\\ 2 & 3 \\end{bmatrix} * \\begin{bmatrix} 4 & 5 & 2 \\\\ 1 & -2 & 3 \\end{bmatrix} = \\begin{bmatrix} (4*4 + 1*1) & (4*5 + 1*(-2)) & (4*2 + 1*3) \\\\ (5*4 + (-2)*1) & (5*5 + (-2)*(-2)) & (5*2 + (-2)*3) \\\\ (2*4 + 3*1) & (2*5 + 3*(-2)) & (2*2 + 3*3) \\end{bmatrix} = \\begin{bmatrix} 17 & 18 & 11 \\\\ 18 & 29 & 4 \\\\ 11 & 4 & 13 \\end{bmatrix}'))"
   ]
  },
  {
   "cell_type": "code",
   "execution_count": 185,
   "metadata": {},
   "outputs": [
    {
     "data": {
      "text/latex": [
       "$\\displaystyle A^T * A = \\begin{bmatrix} 4 & 5 & 2 \\\\ 1 & -2 & 3 \\end{bmatrix} * \\begin{bmatrix} 4 & 1 \\\\ 5 & -2 \\\\ 2 & 3 \\end{bmatrix} = \\begin{bmatrix} (4*4 + 5*5 + 2*2) & (4*1 + 5*(-2) + 2*3) \\\\ (1*4 + (-2)*5 + 3*2) & (1*1 + (-2)*(-2) + 3*3) \\end{bmatrix} = \\begin{bmatrix} 45 & 0 \\\\ 0 & 14 \\end{bmatrix}$"
      ],
      "text/plain": [
       "<IPython.core.display.Math object>"
      ]
     },
     "metadata": {},
     "output_type": "display_data"
    }
   ],
   "source": [
    "display(Math(r'A^T * A = \\begin{bmatrix} 4 & 5 & 2 \\\\ 1 & -2 & 3 \\end{bmatrix} * \\begin{bmatrix} 4 & 1 \\\\ 5 & -2 \\\\ 2 & 3 \\end{bmatrix} = \\begin{bmatrix} (4*4 + 5*5 + 2*2) & (4*1 + 5*(-2) + 2*3) \\\\ (1*4 + (-2)*5 + 3*2) & (1*1 + (-2)*(-2) + 3*3) \\end{bmatrix} = \\begin{bmatrix} 45 & 0 \\\\ 0 & 14 \\end{bmatrix}'))"
   ]
  },
  {
   "cell_type": "code",
   "execution_count": 186,
   "metadata": {},
   "outputs": [
    {
     "data": {
      "text/plain": [
       "(array([[17, 18, 11],\n",
       "        [18, 29,  4],\n",
       "        [11,  4, 13]]),\n",
       " array([[45,  0],\n",
       "        [ 0, 14]]))"
      ]
     },
     "execution_count": 186,
     "metadata": {},
     "output_type": "execute_result"
    }
   ],
   "source": [
    "A = np.array([[4, 1], [5, -2], [2,3]])\n",
    "A@A.T, A.T@A"
   ]
  },
  {
   "cell_type": "markdown",
   "metadata": {},
   "source": [
    "__5*.__ Написать на Python функцию для перемножения двух произвольных матриц, не используя NumPy."
   ]
  },
  {
   "cell_type": "code",
   "execution_count": 187,
   "metadata": {},
   "outputs": [
    {
     "data": {
      "text/plain": [
       "[[17, 18, 11], [18, 29, 4], [11, 4, 13]]"
      ]
     },
     "execution_count": 187,
     "metadata": {},
     "output_type": "execute_result"
    }
   ],
   "source": [
    "import math\n",
    "from typing import List\n",
    "\n",
    "\n",
    "def matrix_multiplication(matrix1: List[List[int]], matrix2: List[List[int]]):\n",
    "    if len(matrix1) != len(matrix2[0]):\n",
    "        raise Exception(\"incorrect matrix size\")\n",
    "    result = []\n",
    "    matrix2 = list(zip(*matrix2))\n",
    "    for m1_line in matrix1:\n",
    "        line = []\n",
    "        for m2_line in matrix2:\n",
    "            line.append(sum(list(map(lambda x: math.prod(x), list(zip(*[m1_line, m2_line]))))))\n",
    "        result.append(line)\n",
    "    return result\n",
    "            \n",
    "m1 = [[4, 1], [5, -2], [2,3]]\n",
    "m2 = [[4, 5, 2], [1, -2, 3]]\n",
    "matrix_multiplication(m1, m2)"
   ]
  },
  {
   "cell_type": "code",
   "execution_count": 188,
   "metadata": {},
   "outputs": [
    {
     "data": {
      "text/plain": [
       "array([[17, 18, 11],\n",
       "       [18, 29,  4],\n",
       "       [11,  4, 13]])"
      ]
     },
     "execution_count": 188,
     "metadata": {},
     "output_type": "execute_result"
    }
   ],
   "source": [
    "# Проверка\n",
    "A = np.array([[4, 1], [5, -2], [2,3]])\n",
    "A@A.T"
   ]
  },
  {
   "cell_type": "markdown",
   "metadata": {},
   "source": [
    "### Матрицы и матричные операции. Часть 2"
   ]
  },
  {
   "cell_type": "markdown",
   "metadata": {},
   "source": [
    "__1.__ Вычислить определитель:\n",
    "\n",
    "   a)\n",
    "\n",
    "$$\\begin{vmatrix}\n",
    "sinx & -cosx\\\\ \n",
    "cosx & sinx\n",
    "\\end{vmatrix};$$\n",
    "\n",
    "   б)\n",
    "    \n",
    "$$\\begin{vmatrix}\n",
    "4 & 2 & 3\\\\ \n",
    "0 & 5 & 1\\\\ \n",
    "0 & 0 & 9\n",
    "\\end{vmatrix};$$\n",
    "    \n",
    "   в)\n",
    "\n",
    "$$\\begin{vmatrix}\n",
    "1 & 2 & 3\\\\ \n",
    "4 & 5 & 6\\\\ \n",
    "7 & 8 & 9\n",
    "\\end{vmatrix}.$$\n"
   ]
  },
  {
   "cell_type": "code",
   "execution_count": 189,
   "metadata": {},
   "outputs": [
    {
     "data": {
      "text/latex": [
       "$\\displaystyle det\\begin{bmatrix} sin(x) & -cos(x) \\\\ cos(x) & sin(x) \\end{bmatrix} = sin(x)*sin(x) - (-cos(x)) * cos(x) = sin^2(x) + cos^2(x)$"
      ],
      "text/plain": [
       "<IPython.core.display.Math object>"
      ]
     },
     "metadata": {},
     "output_type": "display_data"
    }
   ],
   "source": [
    "# решение\n",
    "# a)\n",
    "display(Math(r'det\\begin{bmatrix} sin(x) & -cos(x) \\\\ cos(x) & sin(x) \\end{bmatrix} = sin(x)*sin(x) - (-cos(x)) * cos(x) = sin^2(x) + cos^2(x)'))"
   ]
  },
  {
   "cell_type": "code",
   "execution_count": 190,
   "metadata": {},
   "outputs": [
    {
     "data": {
      "text/latex": [
       "$\\displaystyle det\\begin{bmatrix} 4&2&3 \\\\ 0&5&1 \\\\ 0&0&9 \\end{bmatrix} = 4*5*9 + 2*1*0 + 3*0*0 - 3*5*0 - 4*1*0 - 2*0*9 = 180$"
      ],
      "text/plain": [
       "<IPython.core.display.Math object>"
      ]
     },
     "metadata": {},
     "output_type": "display_data"
    }
   ],
   "source": [
    "# б)\n",
    "display(Math(r'det\\begin{bmatrix} 4&2&3 \\\\ 0&5&1 \\\\ 0&0&9 \\end{bmatrix} = 4*5*9 + 2*1*0 + 3*0*0 - 3*5*0 - 4*1*0 - 2*0*9 = 180'))"
   ]
  },
  {
   "cell_type": "code",
   "execution_count": 191,
   "metadata": {},
   "outputs": [
    {
     "data": {
      "text/plain": [
       "180.0"
      ]
     },
     "execution_count": 191,
     "metadata": {},
     "output_type": "execute_result"
    }
   ],
   "source": [
    "A = np.array([[4,2,3],[0,5,1],[0,0,9]])\n",
    "la.det(A)"
   ]
  },
  {
   "cell_type": "code",
   "execution_count": 192,
   "metadata": {},
   "outputs": [
    {
     "data": {
      "text/latex": [
       "$\\displaystyle det\\begin{bmatrix} 1&2&3 \\\\ 4&5&6 \\\\ 7&8&9 \\end{bmatrix} = 1*5*9 + 2*6*7 + 3*4*8 - 3*5*7 - 1*6*8 - 2*4*9 = 0$"
      ],
      "text/plain": [
       "<IPython.core.display.Math object>"
      ]
     },
     "metadata": {},
     "output_type": "display_data"
    }
   ],
   "source": [
    "# в)\n",
    "display(Math(r'det\\begin{bmatrix} 1&2&3 \\\\ 4&5&6 \\\\ 7&8&9 \\end{bmatrix} = 1*5*9 + 2*6*7 + 3*4*8 - 3*5*7 - 1*6*8 - 2*4*9 = 0'))"
   ]
  },
  {
   "cell_type": "code",
   "execution_count": 193,
   "metadata": {},
   "outputs": [
    {
     "data": {
      "text/plain": [
       "-9.51619735392994e-16"
      ]
     },
     "execution_count": 193,
     "metadata": {},
     "output_type": "execute_result"
    }
   ],
   "source": [
    "B = np.array([[1,2,3],[4,5,6],[7,8,9]])\n",
    "la.det(B)\n",
    "# ??? не понял почему не 0 :-("
   ]
  },
  {
   "cell_type": "markdown",
   "metadata": {},
   "source": [
    "__2.__ Определитель матрицы $A$ равен $4$. Найти:"
   ]
  },
  {
   "cell_type": "markdown",
   "metadata": {},
   "source": [
    "а) $det(A^{2})$ = 4*4 = 16\n",
    "\n",
    "б) $det(A^{T})$ = 4\n",
    "\n",
    "в) $det(2A)$ = 4*2 = 8"
   ]
  },
  {
   "cell_type": "markdown",
   "metadata": {},
   "source": [
    "__3.__  Доказать, что матрица\n",
    "\n",
    "$$\\begin{pmatrix}\n",
    "-2 & 7 & -3\\\\ \n",
    "4 & -14 & 6\\\\ \n",
    "-3 & 7 & 13\n",
    "\\end{pmatrix}$$\n",
    "   \n",
    "вырожденная."
   ]
  },
  {
   "cell_type": "code",
   "execution_count": 194,
   "metadata": {},
   "outputs": [
    {
     "data": {
      "text/plain": [
       "0.0"
      ]
     },
     "execution_count": 194,
     "metadata": {},
     "output_type": "execute_result"
    }
   ],
   "source": [
    "# Матрица называется сингулярной, или вырожденной, если ее определитель равен нулю.\n",
    "A = np.array([[-2,7,-3],[4,-14,6],[-3,7,13]])\n",
    "la.det(A)"
   ]
  },
  {
   "cell_type": "markdown",
   "metadata": {},
   "source": [
    "__4.__ Найти ранг матрицы:\n",
    "\n",
    "   а) $\\begin{pmatrix}\n",
    "1 & 2 & 3\\\\ \n",
    "1 & 1 & 1\\\\ \n",
    "2 & 3 & 4\n",
    "\\end{pmatrix};$\n",
    "\n",
    "   б) $\\begin{pmatrix}\n",
    "0 & 0 & 2 & 1\\\\ \n",
    "0 & 0 & 2 & 2\\\\ \n",
    "0 & 0 & 4 & 3\\\\ \n",
    "2 & 3 & 5 & 6\n",
    "\\end{pmatrix}.$"
   ]
  },
  {
   "cell_type": "code",
   "execution_count": 195,
   "metadata": {},
   "outputs": [
    {
     "data": {
      "text/plain": [
       "(2, 3)"
      ]
     },
     "execution_count": 195,
     "metadata": {},
     "output_type": "execute_result"
    }
   ],
   "source": [
    "A = np.array([[1,2,3],[1,1,1],[2,3,4]])\n",
    "B = np.array([[0,0,2,1],[0,0,2,2],[0,0,4,3], [2,3,5,6]])\n",
    "la.matrix_rank(A), la.matrix_rank(B)"
   ]
  },
  {
   "cell_type": "code",
   "execution_count": null,
   "metadata": {},
   "outputs": [],
   "source": []
  }
 ],
 "metadata": {
  "kernelspec": {
   "display_name": "Python 3",
   "language": "python",
   "name": "python3"
  },
  "language_info": {
   "codemirror_mode": {
    "name": "ipython",
    "version": 3
   },
   "file_extension": ".py",
   "mimetype": "text/x-python",
   "name": "python",
   "nbconvert_exporter": "python",
   "pygments_lexer": "ipython3",
   "version": "3.8.5"
  }
 },
 "nbformat": 4,
 "nbformat_minor": 4
}
