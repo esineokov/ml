{
 "cells": [
  {
   "cell_type": "code",
   "execution_count": 1,
   "metadata": {},
   "outputs": [],
   "source": [
    "from IPython.display import Image\n",
    "from IPython.core.display import HTML \n",
    "from IPython.display import display, Math, Latex\n",
    "import matplotlib.pyplot as plt\n",
    "import numpy as np\n",
    "from numpy import linalg as la\n",
    "from math import factorial"
   ]
  },
  {
   "cell_type": "markdown",
   "metadata": {},
   "source": [
    "__3.__ Пусть линейный оператор задан матрицей\n",
    "\n",
    "$$A=\\begin{pmatrix}\n",
    "1 & 1\\\\ \n",
    "-1 & 3\n",
    "\\end{pmatrix}.$$\n",
    "\n",
    "Установить, является ли вектор $x=(1,1)$ собственным вектором этого линейного оператора."
   ]
  },
  {
   "cell_type": "code",
   "execution_count": 9,
   "metadata": {},
   "outputs": [
    {
     "data": {
      "text/latex": [
       "$\\displaystyle \\begin{bmatrix} 1 & 1 \\\\ -1 & 3 \\end{bmatrix} \\begin{bmatrix} 1 \\\\ 1 \\end{bmatrix} = \\lambda \\begin{bmatrix} 1 \\\\ 1 \\end{bmatrix}$"
      ],
      "text/plain": [
       "<IPython.core.display.Math object>"
      ]
     },
     "metadata": {},
     "output_type": "display_data"
    }
   ],
   "source": [
    "display(Math(r'\\begin{bmatrix} 1 & 1 \\\\ -1 & 3 \\end{bmatrix} \\begin{bmatrix} 1 \\\\ 1 \\end{bmatrix} = \\lambda \\begin{bmatrix} 1 \\\\ 1 \\end{bmatrix}'))"
   ]
  },
  {
   "cell_type": "code",
   "execution_count": 21,
   "metadata": {},
   "outputs": [
    {
     "data": {
      "text/latex": [
       "$\\displaystyle \\begin{cases} 1*1 + 1*1 = \\lambda\\\\ (-1)* 1 + 3*1 = \\lambda \\end{cases} => \\begin{cases} \\lambda = 2 \\\\ \\lambda = 2  \\end{cases}$"
      ],
      "text/plain": [
       "<IPython.core.display.Math object>"
      ]
     },
     "metadata": {},
     "output_type": "display_data"
    }
   ],
   "source": [
    "display(Math(r'\\begin{cases} 1*1 + 1*1 = \\lambda\\\\ (-1)* 1 + 3*1 = \\lambda \\end{cases} => \\begin{cases} \\lambda = 2 \\\\ \\lambda = 2  \\end{cases}'))"
   ]
  },
  {
   "cell_type": "code",
   "execution_count": 22,
   "metadata": {},
   "outputs": [],
   "source": [
    "# Ответ: являеется"
   ]
  },
  {
   "cell_type": "markdown",
   "metadata": {},
   "source": [
    "**4.** Пусть линейный оператор задан матрицей\n",
    "\n",
    "$$A=\\begin{pmatrix} 0 & 3 & 0\\\\ 3 & 0 & 0\\\\ 0 & 0 & 3 \\end{pmatrix}.$$\n",
    "\n",
    "Установить, является ли вектор $x=(3, -3, -4)$ собственным вектором этого линейного оператора."
   ]
  },
  {
   "cell_type": "code",
   "execution_count": 25,
   "metadata": {},
   "outputs": [
    {
     "data": {
      "text/latex": [
       "$\\displaystyle \\begin{bmatrix} 0 & 3 & 0 \\\\ 3 & 0 & 0 \\\\ 0 & 0 & 3 \\end{bmatrix} \\begin{bmatrix} 3 \\\\ -3 \\\\ -4 \\end{bmatrix} = \\lambda \\begin{bmatrix} 3 \\\\ -3 \\\\ 4 \\end{bmatrix}$"
      ],
      "text/plain": [
       "<IPython.core.display.Math object>"
      ]
     },
     "metadata": {},
     "output_type": "display_data"
    }
   ],
   "source": [
    "display(Math(r'\\begin{bmatrix} 0 & 3 & 0 \\\\ 3 & 0 & 0 \\\\ 0 & 0 & 3 \\end{bmatrix} \\begin{bmatrix} 3 \\\\ -3 \\\\ -4 \\end{bmatrix} = \\lambda \\begin{bmatrix} 3 \\\\ -3 \\\\ 4 \\end{bmatrix}'))"
   ]
  },
  {
   "cell_type": "code",
   "execution_count": 31,
   "metadata": {},
   "outputs": [
    {
     "data": {
      "text/latex": [
       "$\\displaystyle \\begin{cases} 0*3 + 3*(-3) + 0*(-4) = 3\\lambda \\\\ 3*3 + 0*(-3) + 0*(-4)= -3\\lambda \\\\ 0*3 + 0*(-3) + 3*(-4)  = 4\\lambda\\end{cases} => \\begin{cases} \\lambda = -3 \\\\ \\lambda = -3 \\\\ \\lambda = -3 \\end{cases}$"
      ],
      "text/plain": [
       "<IPython.core.display.Math object>"
      ]
     },
     "metadata": {},
     "output_type": "display_data"
    }
   ],
   "source": [
    "display(Math(r'\\begin{cases} 0*3 + 3*(-3) + 0*(-4) = 3\\lambda \\\\ 3*3 + 0*(-3) + 0*(-4)= -3\\lambda \\\\ 0*3 + 0*(-3) + 3*(-4)  = 4\\lambda\\end{cases} => \\begin{cases} \\lambda = -3 \\\\ \\lambda = -3 \\\\ \\lambda = -3 \\end{cases}'))"
   ]
  },
  {
   "cell_type": "code",
   "execution_count": 32,
   "metadata": {},
   "outputs": [],
   "source": [
    "# Ответ: являеется"
   ]
  },
  {
   "cell_type": "code",
   "execution_count": null,
   "metadata": {},
   "outputs": [],
   "source": []
  }
 ],
 "metadata": {
  "kernelspec": {
   "display_name": "Python 3",
   "language": "python",
   "name": "python3"
  },
  "language_info": {
   "codemirror_mode": {
    "name": "ipython",
    "version": 3
   },
   "file_extension": ".py",
   "mimetype": "text/x-python",
   "name": "python",
   "nbconvert_exporter": "python",
   "pygments_lexer": "ipython3",
   "version": "3.8.5"
  }
 },
 "nbformat": 4,
 "nbformat_minor": 4
}
