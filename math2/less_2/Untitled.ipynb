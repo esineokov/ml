{
 "cells": [
  {
   "cell_type": "code",
   "execution_count": 11,
   "metadata": {
    "ExecuteTime": {
     "end_time": "2020-10-03T19:30:49.505618Z",
     "start_time": "2020-10-03T19:30:49.499576Z"
    }
   },
   "outputs": [],
   "source": [
    "from IPython.display import Image\n",
    "from IPython.core.display import HTML \n",
    "from IPython.display import display, Math, Latex"
   ]
  },
  {
   "cell_type": "markdown",
   "metadata": {},
   "source": [
    "### Тема “Введение в математических анализ”"
   ]
  },
  {
   "cell_type": "markdown",
   "metadata": {},
   "source": [
    "**1. Как относятся друг к другу множество и последовательность? (в ответе использовать слова типа: часть, целое, общее, частное, родитель, дочерний субъект и т.д.)**\n",
    "\n",
    "Ответ: Последовательность возникает из множества. То есть, является его частью."
   ]
  },
  {
   "attachments": {},
   "cell_type": "markdown",
   "metadata": {},
   "source": [
    "**2. Прочитать высказывания математической логики, построить их отрицания и установить истинность.**"
   ]
  },
  {
   "cell_type": "code",
   "execution_count": 52,
   "metadata": {
    "ExecuteTime": {
     "end_time": "2020-10-03T20:19:47.546147Z",
     "start_time": "2020-10-03T20:19:47.535651Z"
    }
   },
   "outputs": [
    {
     "data": {
      "text/html": [
       "<img src=\"./image1.png\" width=\"400\" height=\"400\"/>"
      ],
      "text/plain": [
       "<IPython.core.display.Image object>"
      ]
     },
     "execution_count": 52,
     "metadata": {},
     "output_type": "execute_result"
    }
   ],
   "source": [
    "Image(url= \"./image1.png\", width=400, height=400)"
   ]
  },
  {
   "attachments": {},
   "cell_type": "markdown",
   "metadata": {
    "ExecuteTime": {
     "end_time": "2020-10-03T19:04:05.188840Z",
     "start_time": "2020-10-03T19:04:05.184867Z"
    }
   },
   "source": [
    "* Для любого \"y\" принадлежащего от 0 до 1 включительно функция sgn от \"y\" будет равна 1\n",
    "* Для любого \"n\" принадлежащего к области натуральных чисел больше 2 найдутся натуральные \"x\", \"y\" и \"z\" для которых будет справедливо равенство: x^n = y^n + z^n\n",
    "* Для любого вещественного \"x\" найдется вещественное \"X\", которое будет больше \"x\"\n",
    "* Для любого комплексного \"x\" не существует такого комплесного \"y\", которое было бы больше или меньще \"x\"\n",
    "* Для любого \"y\" на отреке от 0 до пи/2 существует полозительное \"e\" при котором синус \"y\" меньше чем синус от \"y\" + \"e\"\n",
    "* Для дюбого \"y\" полуинтервале от 0 до пи существует положительное \"е\" при котором косинус от \"y\" больше чем косинус от \"y\" + \"e\"\n",
    "* Существует \"x\" не являющийся натуральным, целым, рациональный, вещественным или комплексным числом\n"
   ]
  },
  {
   "cell_type": "markdown",
   "metadata": {},
   "source": [
    "Отрицания"
   ]
  },
  {
   "cell_type": "code",
   "execution_count": 53,
   "metadata": {
    "ExecuteTime": {
     "end_time": "2020-10-03T20:19:48.657111Z",
     "start_time": "2020-10-03T20:19:48.646129Z"
    }
   },
   "outputs": [
    {
     "data": {
      "text/latex": [
       "$\\displaystyle \\exists y\\in [0;1]: sgn(y) \\neq 1$"
      ],
      "text/plain": [
       "<IPython.core.display.Math object>"
      ]
     },
     "metadata": {},
     "output_type": "display_data"
    },
    {
     "data": {
      "text/latex": [
       "$\\displaystyle \\exists n\\in N > 2:\\forall x,y,z \\in N:x^n \\neq y^n + z^n$"
      ],
      "text/plain": [
       "<IPython.core.display.Math object>"
      ]
     },
     "metadata": {},
     "output_type": "display_data"
    },
    {
     "data": {
      "text/latex": [
       "$\\displaystyle \\exists x \\in R\\forall X\\in R: X< x$"
      ],
      "text/plain": [
       "<IPython.core.display.Math object>"
      ]
     },
     "metadata": {},
     "output_type": "display_data"
    },
    {
     "data": {
      "text/latex": [
       "$\\displaystyle \\exists x,y \\in C : x < y || x > y$"
      ],
      "text/plain": [
       "<IPython.core.display.Math object>"
      ]
     },
     "metadata": {},
     "output_type": "display_data"
    },
    {
     "data": {
      "text/latex": [
       "$\\displaystyle \\exists y \\in [0; \\frac{\\pi}{2}]\\forall \\epsilon > 0: sin y > sin (y + \\epsilon)$"
      ],
      "text/plain": [
       "<IPython.core.display.Math object>"
      ]
     },
     "metadata": {},
     "output_type": "display_data"
    },
    {
     "data": {
      "text/latex": [
       "$\\displaystyle \\exists y \\in [0; \\pi)\\forall \\epsilon > 0: cos y < cos (y + \\epsilon)$"
      ],
      "text/plain": [
       "<IPython.core.display.Math object>"
      ]
     },
     "metadata": {},
     "output_type": "display_data"
    },
    {
     "data": {
      "text/latex": [
       "$\\displaystyle \\forall x: x \\in \\{N,Z,Q,R,C\\}$"
      ],
      "text/plain": [
       "<IPython.core.display.Math object>"
      ]
     },
     "metadata": {},
     "output_type": "display_data"
    }
   ],
   "source": [
    "display(Math(r'\\exists y\\in [0;1]: sgn(y) \\neq 1'))\n",
    "display(Math(r'\\exists n\\in N > 2:\\forall x,y,z \\in N:x^n \\neq y^n + z^n'))\n",
    "display(Math(r'\\exists x \\in R\\forall X\\in R: X< x'))\n",
    "display(Math(r'\\exists x,y \\in C : x < y || x > y'))\n",
    "display(Math(r'\\exists y \\in [0; \\frac{\\pi}{2}]\\forall \\epsilon > 0: sin y > sin (y + \\epsilon)'))\n",
    "display(Math(r'\\exists y \\in [0; \\pi)\\forall \\epsilon > 0: cos y < cos (y + \\epsilon)'))\n",
    "display(Math(r'\\forall x: x \\in \\{N,Z,Q,R,C\\}'))"
   ]
  },
  {
   "cell_type": "markdown",
   "metadata": {
    "ExecuteTime": {
     "end_time": "2020-10-03T20:23:56.503600Z",
     "start_time": "2020-10-03T20:23:56.501250Z"
    }
   },
   "source": [
    "### Тема “Множество”"
   ]
  },
  {
   "cell_type": "markdown",
   "metadata": {
    "ExecuteTime": {
     "end_time": "2020-10-03T19:42:02.149254Z",
     "start_time": "2020-10-03T19:42:02.144076Z"
    }
   },
   "source": [
    "**1.Даны три множества a,b и с. Необходимо выполнить все изученные виды бинарных операций над всеми комбинациями множеств.**"
   ]
  },
  {
   "cell_type": "markdown",
   "metadata": {
    "ExecuteTime": {
     "end_time": "2020-10-03T20:31:50.819099Z",
     "start_time": "2020-10-03T20:31:50.814388Z"
    }
   },
   "source": [
    "a = {1, 2, 3}\n",
    "\n",
    "b = {3, 4, 5}\n",
    "\n",
    "c = {1, 5, 9}"
   ]
  },
  {
   "cell_type": "markdown",
   "metadata": {},
   "source": [
    "Объединение:"
   ]
  },
  {
   "cell_type": "code",
   "execution_count": 69,
   "metadata": {
    "ExecuteTime": {
     "end_time": "2020-10-03T20:46:52.958694Z",
     "start_time": "2020-10-03T20:46:52.952721Z"
    }
   },
   "outputs": [
    {
     "data": {
      "text/latex": [
       "$\\displaystyle a \\cup b = \\{1, 2, 3, 4, 5\\}$"
      ],
      "text/plain": [
       "<IPython.core.display.Math object>"
      ]
     },
     "metadata": {},
     "output_type": "display_data"
    },
    {
     "data": {
      "text/latex": [
       "$\\displaystyle b \\cup c = \\{1, 3, 4, 5, 9\\}$"
      ],
      "text/plain": [
       "<IPython.core.display.Math object>"
      ]
     },
     "metadata": {},
     "output_type": "display_data"
    },
    {
     "data": {
      "text/latex": [
       "$\\displaystyle a \\cup c = \\{1, 2, 3, 5 ,9\\}$"
      ],
      "text/plain": [
       "<IPython.core.display.Math object>"
      ]
     },
     "metadata": {},
     "output_type": "display_data"
    }
   ],
   "source": [
    "display(Math(r'a \\cup b = \\{1, 2, 3, 4, 5\\}'))\n",
    "display(Math(r'b \\cup c = \\{1, 3, 4, 5, 9\\}'))\n",
    "display(Math(r'a \\cup c = \\{1, 2, 3, 5 ,9\\}'))"
   ]
  },
  {
   "cell_type": "markdown",
   "metadata": {
    "ExecuteTime": {
     "end_time": "2020-10-03T20:34:34.705279Z",
     "start_time": "2020-10-03T20:34:34.701506Z"
    }
   },
   "source": [
    "Разность:"
   ]
  },
  {
   "cell_type": "markdown",
   "metadata": {
    "ExecuteTime": {
     "end_time": "2020-10-03T20:37:08.212578Z",
     "start_time": "2020-10-03T20:37:08.206134Z"
    }
   },
   "source": [
    "a \\ b = {1, 2}\n",
    "\n",
    "b \\ a = {4, 5}\n",
    "\n",
    "b \\ c = {3, 4}\n",
    "\n",
    "c \\ b = {1, 9}\n",
    "\n",
    "a \\ c = {2, 3}\n",
    "\n",
    "c \\ a = {5, 9}"
   ]
  },
  {
   "cell_type": "markdown",
   "metadata": {},
   "source": [
    "Пересечение:"
   ]
  },
  {
   "cell_type": "code",
   "execution_count": 66,
   "metadata": {
    "ExecuteTime": {
     "end_time": "2020-10-03T20:42:15.646539Z",
     "start_time": "2020-10-03T20:42:15.639357Z"
    }
   },
   "outputs": [
    {
     "data": {
      "text/latex": [
       "$\\displaystyle a \\cap b = \\{3\\}$"
      ],
      "text/plain": [
       "<IPython.core.display.Math object>"
      ]
     },
     "metadata": {},
     "output_type": "display_data"
    },
    {
     "data": {
      "text/latex": [
       "$\\displaystyle b \\cap c = \\{5\\}$"
      ],
      "text/plain": [
       "<IPython.core.display.Math object>"
      ]
     },
     "metadata": {},
     "output_type": "display_data"
    },
    {
     "data": {
      "text/latex": [
       "$\\displaystyle a \\cap c = \\{1\\}$"
      ],
      "text/plain": [
       "<IPython.core.display.Math object>"
      ]
     },
     "metadata": {},
     "output_type": "display_data"
    }
   ],
   "source": [
    "display(Math(r'a \\cap b = \\{3\\}'))\n",
    "display(Math(r'b \\cap c = \\{5\\}'))\n",
    "display(Math(r'a \\cap c = \\{1\\}'))"
   ]
  },
  {
   "cell_type": "markdown",
   "metadata": {},
   "source": [
    "Симметрическая разность"
   ]
  },
  {
   "cell_type": "code",
   "execution_count": 72,
   "metadata": {
    "ExecuteTime": {
     "end_time": "2020-10-03T20:47:33.142730Z",
     "start_time": "2020-10-03T20:47:33.135217Z"
    }
   },
   "outputs": [
    {
     "data": {
      "text/latex": [
       "$\\displaystyle a \\Delta b = \\{1, 2, 4, 5\\}$"
      ],
      "text/plain": [
       "<IPython.core.display.Math object>"
      ]
     },
     "metadata": {},
     "output_type": "display_data"
    },
    {
     "data": {
      "text/latex": [
       "$\\displaystyle b \\Delta c = \\{1, 3, 4, 9\\}$"
      ],
      "text/plain": [
       "<IPython.core.display.Math object>"
      ]
     },
     "metadata": {},
     "output_type": "display_data"
    },
    {
     "data": {
      "text/latex": [
       "$\\displaystyle a \\Delta c = \\{2, 3, 5 ,9\\}$"
      ],
      "text/plain": [
       "<IPython.core.display.Math object>"
      ]
     },
     "metadata": {},
     "output_type": "display_data"
    }
   ],
   "source": [
    "display(Math(r'a \\Delta b = \\{1, 2, 4, 5\\}'))\n",
    "display(Math(r'b \\Delta c = \\{1, 3, 4, 9\\}'))\n",
    "display(Math(r'a \\Delta c = \\{2, 3, 5 ,9\\}'))"
   ]
  },
  {
   "cell_type": "markdown",
   "metadata": {
    "ExecuteTime": {
     "end_time": "2020-10-03T20:47:54.931922Z",
     "start_time": "2020-10-03T20:47:54.927686Z"
    }
   },
   "source": [
    "**2. *Выполнить задание 1 на языке Python**"
   ]
  },
  {
   "cell_type": "code",
   "execution_count": 78,
   "metadata": {
    "ExecuteTime": {
     "end_time": "2020-10-03T20:49:42.603317Z",
     "start_time": "2020-10-03T20:49:42.599446Z"
    }
   },
   "outputs": [],
   "source": [
    "a = set([1, 2, 3])\n",
    "b = set([3, 4, 5])\n",
    "c = set([1, 5, 9])"
   ]
  },
  {
   "cell_type": "markdown",
   "metadata": {},
   "source": [
    "Объединение:"
   ]
  },
  {
   "cell_type": "code",
   "execution_count": 81,
   "metadata": {
    "ExecuteTime": {
     "end_time": "2020-10-03T20:51:04.335212Z",
     "start_time": "2020-10-03T20:51:04.328944Z"
    }
   },
   "outputs": [
    {
     "data": {
      "text/plain": [
       "({1, 2, 3, 5, 9}, {1, 3, 4, 5, 9}, {1, 2, 3, 5, 9})"
      ]
     },
     "execution_count": 81,
     "metadata": {},
     "output_type": "execute_result"
    }
   ],
   "source": [
    "auc, buc, auc = a.union(b), b.union(c), a.union(c)\n",
    "auc, buc, auc"
   ]
  },
  {
   "cell_type": "markdown",
   "metadata": {},
   "source": [
    "Разность:"
   ]
  },
  {
   "cell_type": "code",
   "execution_count": 85,
   "metadata": {
    "ExecuteTime": {
     "end_time": "2020-10-03T20:54:26.226449Z",
     "start_time": "2020-10-03T20:54:26.219450Z"
    }
   },
   "outputs": [
    {
     "data": {
      "text/plain": [
       "({1, 2}, {4, 5}, {3, 4}, {1, 9}, {2, 3}, {5, 9})"
      ]
     },
     "execution_count": 85,
     "metadata": {},
     "output_type": "execute_result"
    }
   ],
   "source": [
    "adb = a.difference(b)\n",
    "bda = b.difference(a)\n",
    "bdc = b.difference(c)\n",
    "cdb = c.difference(b)\n",
    "adc = a.difference(c)\n",
    "cda = c.difference(a)\n",
    "adb, bda, bdc, cdb, adc, cda"
   ]
  },
  {
   "cell_type": "markdown",
   "metadata": {},
   "source": [
    "Пересечение:"
   ]
  },
  {
   "cell_type": "code",
   "execution_count": 88,
   "metadata": {
    "ExecuteTime": {
     "end_time": "2020-10-03T20:55:48.945753Z",
     "start_time": "2020-10-03T20:55:48.939933Z"
    }
   },
   "outputs": [
    {
     "data": {
      "text/plain": [
       "({3}, {5}, {1})"
      ]
     },
     "execution_count": 88,
     "metadata": {},
     "output_type": "execute_result"
    }
   ],
   "source": [
    "aib, bic, cib = a.intersection(b), b.intersection(c), c.intersection(a)\n",
    "aib, bic, cib"
   ]
  },
  {
   "cell_type": "markdown",
   "metadata": {},
   "source": [
    "Симметрическая разность"
   ]
  },
  {
   "cell_type": "code",
   "execution_count": 89,
   "metadata": {
    "ExecuteTime": {
     "end_time": "2020-10-03T20:56:55.063543Z",
     "start_time": "2020-10-03T20:56:55.058920Z"
    }
   },
   "outputs": [
    {
     "data": {
      "text/plain": [
       "({1, 2, 4, 5}, {1, 3, 4, 9}, {2, 3, 5, 9})"
      ]
     },
     "execution_count": 89,
     "metadata": {},
     "output_type": "execute_result"
    }
   ],
   "source": [
    "asdb = a.symmetric_difference(b)\n",
    "bsdc = b.symmetric_difference(c)\n",
    "csda = c.symmetric_difference(a)\n",
    "asdb, bsdc, csda"
   ]
  },
  {
   "cell_type": "markdown",
   "metadata": {},
   "source": [
    "### Тема 3 “Последовательность”"
   ]
  },
  {
   "cell_type": "markdown",
   "metadata": {
    "ExecuteTime": {
     "end_time": "2020-10-03T20:58:04.251946Z",
     "start_time": "2020-10-03T20:58:04.248973Z"
    }
   },
   "source": [
    "**1. Даны 4 последовательности. Необходимо:**"
   ]
  },
  {
   "cell_type": "code",
   "execution_count": 91,
   "metadata": {
    "ExecuteTime": {
     "end_time": "2020-10-03T20:58:47.939874Z",
     "start_time": "2020-10-03T20:58:47.935958Z"
    }
   },
   "outputs": [
    {
     "data": {
      "text/html": [
       "<img src=\"./image4.png\" width=\"400\" height=\"400\"/>"
      ],
      "text/plain": [
       "<IPython.core.display.Image object>"
      ]
     },
     "execution_count": 91,
     "metadata": {},
     "output_type": "execute_result"
    }
   ],
   "source": [
    "Image(url= \"./image4.png\", width=400, height=400)"
   ]
  },
  {
   "cell_type": "markdown",
   "metadata": {},
   "source": [
    "**a. исследовать их на монотонность;**"
   ]
  },
  {
   "cell_type": "markdown",
   "metadata": {},
   "source": [
    "Для каждой последовательности найдем значнения для двух разных n.\n",
    "Если первый (меньший) элемент последовательности больше второго, то можно сказать, \n",
    "что последовательность монотонно возрастает. \n",
    "Иначе, монтонно убывает"
   ]
  },
  {
   "cell_type": "code",
   "execution_count": 152,
   "metadata": {
    "ExecuteTime": {
     "end_time": "2020-10-04T08:45:21.513687Z",
     "start_time": "2020-10-04T08:45:21.505814Z"
    }
   },
   "outputs": [
    {
     "data": {
      "text/latex": [
       "$\\displaystyle a_{n=1} = 2^1 - 1 = 1$"
      ],
      "text/plain": [
       "<IPython.core.display.Math object>"
      ]
     },
     "metadata": {},
     "output_type": "display_data"
    },
    {
     "data": {
      "text/latex": [
       "$\\displaystyle a_{n=2} = 2^2 - 2 = 2$"
      ],
      "text/plain": [
       "<IPython.core.display.Math object>"
      ]
     },
     "metadata": {},
     "output_type": "display_data"
    },
    {
     "data": {
      "text/latex": [
       "$\\displaystyle a_n - возврастает$"
      ],
      "text/plain": [
       "<IPython.core.display.Math object>"
      ]
     },
     "metadata": {},
     "output_type": "display_data"
    }
   ],
   "source": [
    "display(Math(r'a_{n=1} = 2^1 - 1 = 1'))\n",
    "display(Math(r'a_{n=2} = 2^2 - 2 = 2'))\n",
    "display(Math(r'a_n - возврастает'))"
   ]
  },
  {
   "cell_type": "code",
   "execution_count": 114,
   "metadata": {
    "ExecuteTime": {
     "end_time": "2020-10-03T21:12:46.828026Z",
     "start_time": "2020-10-03T21:12:46.822083Z"
    }
   },
   "outputs": [
    {
     "data": {
      "text/latex": [
       "$\\displaystyle b_{n=2} = \\frac{1}{1-2} = -1$"
      ],
      "text/plain": [
       "<IPython.core.display.Math object>"
      ]
     },
     "metadata": {},
     "output_type": "display_data"
    },
    {
     "data": {
      "text/latex": [
       "$\\displaystyle b_{n=3} =  \\frac{1}{1-3} = -0.5$"
      ],
      "text/plain": [
       "<IPython.core.display.Math object>"
      ]
     },
     "metadata": {},
     "output_type": "display_data"
    },
    {
     "data": {
      "text/latex": [
       "$\\displaystyle b_n - возврастает$"
      ],
      "text/plain": [
       "<IPython.core.display.Math object>"
      ]
     },
     "metadata": {},
     "output_type": "display_data"
    }
   ],
   "source": [
    "display(Math(r'b_{n=2} = \\frac{1}{1-2} = -1'))\n",
    "display(Math(r'b_{n=3} = \\frac{1}{1-3} = -0.5'))\n",
    "display(Math(r'b_n - возврастает'))"
   ]
  },
  {
   "cell_type": "code",
   "execution_count": 124,
   "metadata": {
    "ExecuteTime": {
     "end_time": "2020-10-03T21:19:38.097383Z",
     "start_time": "2020-10-03T21:19:38.089818Z"
    }
   },
   "outputs": [
    {
     "data": {
      "text/latex": [
       "$\\displaystyle с_{n=2} = -1^2 + \\sqrt{2*2} = 3$"
      ],
      "text/plain": [
       "<IPython.core.display.Math object>"
      ]
     },
     "metadata": {},
     "output_type": "display_data"
    },
    {
     "data": {
      "text/latex": [
       "$\\displaystyle с_{n=72} = -1^{72} + \\sqrt{2*72} = 13$"
      ],
      "text/plain": [
       "<IPython.core.display.Math object>"
      ]
     },
     "metadata": {},
     "output_type": "display_data"
    },
    {
     "data": {
      "text/latex": [
       "$\\displaystyle с_n - возврастает$"
      ],
      "text/plain": [
       "<IPython.core.display.Math object>"
      ]
     },
     "metadata": {},
     "output_type": "display_data"
    }
   ],
   "source": [
    "display(Math(r'с_{n=2} = -1^2 + \\sqrt{2*2} = 3'))\n",
    "display(Math(r'с_{n=72} = -1^{72} + \\sqrt{2*72} = 13'))\n",
    "display(Math(r'с_n - возврастает'))"
   ]
  },
  {
   "cell_type": "code",
   "execution_count": 134,
   "metadata": {
    "ExecuteTime": {
     "end_time": "2020-10-03T21:22:47.832475Z",
     "start_time": "2020-10-03T21:22:47.825439Z"
    }
   },
   "outputs": [
    {
     "data": {
      "text/latex": [
       "$\\displaystyle d_{n=1} = (-1)^{2*1} + \\frac{1}{1^2} = 2$"
      ],
      "text/plain": [
       "<IPython.core.display.Math object>"
      ]
     },
     "metadata": {},
     "output_type": "display_data"
    },
    {
     "data": {
      "text/latex": [
       "$\\displaystyle d_{n=2} = (-1)^{2*2} + \\frac{1}{2^2} = 1.5$"
      ],
      "text/plain": [
       "<IPython.core.display.Math object>"
      ]
     },
     "metadata": {},
     "output_type": "display_data"
    },
    {
     "data": {
      "text/latex": [
       "$\\displaystyle d_n - убывает$"
      ],
      "text/plain": [
       "<IPython.core.display.Math object>"
      ]
     },
     "metadata": {},
     "output_type": "display_data"
    }
   ],
   "source": [
    "display(Math(r'd_{n=1} = (-1)^{2*1} + \\frac{1}{1^2} = 2'))\n",
    "display(Math(r'd_{n=2} = (-1)^{2*2} + \\frac{1}{2^2} = 1.5'))\n",
    "display(Math(r'd_n - убывает'))"
   ]
  },
  {
   "cell_type": "markdown",
   "metadata": {
    "ExecuteTime": {
     "end_time": "2020-10-03T21:23:41.708787Z",
     "start_time": "2020-10-03T21:23:41.704820Z"
    }
   },
   "source": [
    "**b. исследовать на ограниченность;**"
   ]
  },
  {
   "cell_type": "markdown",
   "metadata": {},
   "source": [
    "Исследуем через приращение общего члена"
   ]
  },
  {
   "cell_type": "code",
   "execution_count": 154,
   "metadata": {
    "ExecuteTime": {
     "end_time": "2020-10-04T08:46:08.659758Z",
     "start_time": "2020-10-04T08:46:08.648633Z"
    }
   },
   "outputs": [
    {
     "data": {
      "text/latex": [
       "$\\displaystyle a_{n=1} = 2^1 - 1 = 1$"
      ],
      "text/plain": [
       "<IPython.core.display.Math object>"
      ]
     },
     "metadata": {},
     "output_type": "display_data"
    },
    {
     "data": {
      "text/latex": [
       "$\\displaystyle a_{n=2} = 2^2 - 2 = 2$"
      ],
      "text/plain": [
       "<IPython.core.display.Math object>"
      ]
     },
     "metadata": {},
     "output_type": "display_data"
    },
    {
     "data": {
      "text/latex": [
       "$\\displaystyle a_{n=2} = 2^3 - 3 = 5$"
      ],
      "text/plain": [
       "<IPython.core.display.Math object>"
      ]
     },
     "metadata": {},
     "output_type": "display_data"
    },
    {
     "data": {
      "text/latex": [
       "$\\displaystyle a_n - неограничена$"
      ],
      "text/plain": [
       "<IPython.core.display.Math object>"
      ]
     },
     "metadata": {},
     "output_type": "display_data"
    }
   ],
   "source": [
    "display(Math(r'a_{n=1} = 2^1 - 1 = 1'))\n",
    "display(Math(r'a_{n=2} = 2^2 - 2 = 2'))\n",
    "display(Math(r'a_{n=2} = 2^3 - 3 = 5'))\n",
    "display(Math(r'a_n - неограничена'))"
   ]
  },
  {
   "cell_type": "code",
   "execution_count": 145,
   "metadata": {
    "ExecuteTime": {
     "end_time": "2020-10-04T08:39:49.891951Z",
     "start_time": "2020-10-04T08:39:49.884684Z"
    }
   },
   "outputs": [
    {
     "data": {
      "text/latex": [
       "$\\displaystyle b_{n=2} = \\frac{1}{1-2} = -1$"
      ],
      "text/plain": [
       "<IPython.core.display.Math object>"
      ]
     },
     "metadata": {},
     "output_type": "display_data"
    },
    {
     "data": {
      "text/latex": [
       "$\\displaystyle b_{n=3} = \\frac{1}{1-3} = -\\frac{1}{2}$"
      ],
      "text/plain": [
       "<IPython.core.display.Math object>"
      ]
     },
     "metadata": {},
     "output_type": "display_data"
    },
    {
     "data": {
      "text/latex": [
       "$\\displaystyle b_{n=4} = \\frac{1}{1-4} = -\\frac{1}{3}$"
      ],
      "text/plain": [
       "<IPython.core.display.Math object>"
      ]
     },
     "metadata": {},
     "output_type": "display_data"
    },
    {
     "data": {
      "text/latex": [
       "$\\displaystyle b_n - ограничена$"
      ],
      "text/plain": [
       "<IPython.core.display.Math object>"
      ]
     },
     "metadata": {},
     "output_type": "display_data"
    }
   ],
   "source": [
    "display(Math(r'b_{n=2} = \\frac{1}{1-2} = -1'))\n",
    "display(Math(r'b_{n=3} = \\frac{1}{1-3} = -\\frac{1}{2}'))\n",
    "display(Math(r'b_{n=4} = \\frac{1}{1-4} = -\\frac{1}{3}'))\n",
    "display(Math(r'b_n - ограничена'))\n",
    "#  поскольку разность между элементами множества все время убывает"
   ]
  },
  {
   "cell_type": "code",
   "execution_count": 157,
   "metadata": {
    "ExecuteTime": {
     "end_time": "2020-10-04T08:56:37.034882Z",
     "start_time": "2020-10-04T08:56:37.021261Z"
    }
   },
   "outputs": [
    {
     "data": {
      "text/latex": [
       "$\\displaystyle с_{n=2} = -1^2 + \\sqrt{2*2} = 3$"
      ],
      "text/plain": [
       "<IPython.core.display.Math object>"
      ]
     },
     "metadata": {},
     "output_type": "display_data"
    },
    {
     "data": {
      "text/latex": [
       "$\\displaystyle с_{n=3} = -1^{3} + \\sqrt{2*3} = 3.449$"
      ],
      "text/plain": [
       "<IPython.core.display.Math object>"
      ]
     },
     "metadata": {},
     "output_type": "display_data"
    },
    {
     "data": {
      "text/latex": [
       "$\\displaystyle с_{n=4} = -1^{4} + \\sqrt{2*4} = 3.828$"
      ],
      "text/plain": [
       "<IPython.core.display.Math object>"
      ]
     },
     "metadata": {},
     "output_type": "display_data"
    },
    {
     "data": {
      "text/latex": [
       "$\\displaystyle с_{n=5} = -1^{5} + \\sqrt{2*5} = 4.162$"
      ],
      "text/plain": [
       "<IPython.core.display.Math object>"
      ]
     },
     "metadata": {},
     "output_type": "display_data"
    },
    {
     "data": {
      "text/latex": [
       "$\\displaystyle с_n - ???$"
      ],
      "text/plain": [
       "<IPython.core.display.Math object>"
      ]
     },
     "metadata": {},
     "output_type": "display_data"
    }
   ],
   "source": [
    "display(Math(r'с_{n=2} = -1^2 + \\sqrt{2*2} = 3'))\n",
    "display(Math(r'с_{n=3} = -1^{3} + \\sqrt{2*3} = 3.449'))\n",
    "display(Math(r'с_{n=4} = -1^{4} + \\sqrt{2*4} = 3.828'))\n",
    "display(Math(r'с_{n=5} = -1^{5} + \\sqrt{2*5} = 4.162'))\n",
    "display(Math(r'с_n - ???'))\n",
    "# Приращение убывает, но в разборе ДЗ говорится, что это последовательность неограничена из-за корня."
   ]
  },
  {
   "cell_type": "code",
   "execution_count": 189,
   "metadata": {
    "ExecuteTime": {
     "end_time": "2020-10-04T09:11:02.031281Z",
     "start_time": "2020-10-04T09:11:01.885242Z"
    }
   },
   "outputs": [
    {
     "data": {
      "text/plain": [
       "[<matplotlib.lines.Line2D at 0x7fcb57896590>]"
      ]
     },
     "execution_count": 189,
     "metadata": {},
     "output_type": "execute_result"
    },
    {
     "data": {
      "image/png": "[encoded data removed]",
      "text/plain": [
       "<Figure size 432x288 with 1 Axes>"
      ]
     },
     "metadata": {
      "needs_background": "light"
     },
     "output_type": "display_data"
    }
   ],
   "source": [
    "# Потсроим график приращения\n",
    "import matplotlib.pyplot as plt\n",
    "import numpy as np\n",
    "\n",
    "x = np.linspace(1, 200, 200)\n",
    "y = -1**x + np.sqrt(2*x)\n",
    "z = [y[i+1]-y[i] for i, v in enumerate(y) if i+1 < len(y)]\n",
    "fig, ax = plt.subplots() \n",
    "ax.plot(x[1:], z, color=\"blue\", label=\"y(x)\")"
   ]
  },
  {
   "cell_type": "markdown",
   "metadata": {
    "ExecuteTime": {
     "end_time": "2020-10-04T09:12:50.120346Z",
     "start_time": "2020-10-04T09:12:50.116572Z"
    }
   },
   "source": [
    "На графике видно, что разность между элементами последовательности стремится к 0. И в ответах сказано, что она неограничена. В связи с этим не совсем понятно почему последовательнсоть b ограничена, если её разности также стремятся к 0."
   ]
  },
  {
   "cell_type": "code",
   "execution_count": 194,
   "metadata": {
    "ExecuteTime": {
     "end_time": "2020-10-04T09:18:29.928757Z",
     "start_time": "2020-10-04T09:18:29.920193Z"
    }
   },
   "outputs": [
    {
     "data": {
      "text/latex": [
       "$\\displaystyle d_{n=1} = (-1)^{2*1} + \\frac{1}{1^2} = 2$"
      ],
      "text/plain": [
       "<IPython.core.display.Math object>"
      ]
     },
     "metadata": {},
     "output_type": "display_data"
    },
    {
     "data": {
      "text/latex": [
       "$\\displaystyle d_{n=2} = (-1)^{2*2} + \\frac{1}{2^2} = 1.5$"
      ],
      "text/plain": [
       "<IPython.core.display.Math object>"
      ]
     },
     "metadata": {},
     "output_type": "display_data"
    },
    {
     "data": {
      "text/latex": [
       "$\\displaystyle d_{n=3} = (-1)^{2*3} + \\frac{1}{3^2} = 1.1(1)$"
      ],
      "text/plain": [
       "<IPython.core.display.Math object>"
      ]
     },
     "metadata": {},
     "output_type": "display_data"
    },
    {
     "data": {
      "text/latex": [
       "$\\displaystyle d_n - ограничена$"
      ],
      "text/plain": [
       "<IPython.core.display.Math object>"
      ]
     },
     "metadata": {},
     "output_type": "display_data"
    }
   ],
   "source": [
    "display(Math(r'd_{n=1} = (-1)^{2*1} + \\frac{1}{1^2} = 2'))\n",
    "display(Math(r'd_{n=2} = (-1)^{2*2} + \\frac{1}{2^2} = 1.5'))\n",
    "display(Math(r'd_{n=3} = (-1)^{2*3} + \\frac{1}{3^2} = 1.1(1)'))\n",
    "display(Math(r'd_n - ограничена'))"
   ]
  },
  {
   "cell_type": "markdown",
   "metadata": {
    "ExecuteTime": {
     "end_time": "2020-10-04T09:20:46.273530Z",
     "start_time": "2020-10-04T09:20:46.269515Z"
    }
   },
   "source": [
    "**c. найти пятый по счету член.**"
   ]
  },
  {
   "cell_type": "code",
   "execution_count": 203,
   "metadata": {
    "ExecuteTime": {
     "end_time": "2020-10-04T09:24:38.723899Z",
     "start_time": "2020-10-04T09:24:38.714567Z"
    }
   },
   "outputs": [
    {
     "data": {
      "text/latex": [
       "$\\displaystyle a_5 = 2^5 - 5 = 27$"
      ],
      "text/plain": [
       "<IPython.core.display.Math object>"
      ]
     },
     "metadata": {},
     "output_type": "display_data"
    },
    {
     "data": {
      "text/latex": [
       "$\\displaystyle b_6 = \\frac{1}{1-6} = 0.2$"
      ],
      "text/plain": [
       "<IPython.core.display.Math object>"
      ]
     },
     "metadata": {},
     "output_type": "display_data"
    },
    {
     "data": {
      "text/latex": [
       "$\\displaystyle c_5 = -1^5 + \\sqrt{2*5} = \\sqrt{10}-1$"
      ],
      "text/plain": [
       "<IPython.core.display.Math object>"
      ]
     },
     "metadata": {},
     "output_type": "display_data"
    },
    {
     "data": {
      "text/latex": [
       "$\\displaystyle d_5 = -1^{2*5} + \\frac{1}{5^2} = 1+ \\frac{1}{25} = 1.04$"
      ],
      "text/plain": [
       "<IPython.core.display.Math object>"
      ]
     },
     "metadata": {},
     "output_type": "display_data"
    }
   ],
   "source": [
    "display(Math(r'a_5 = 2^5 - 5 = 27'))\n",
    "display(Math(r'b_6 = \\frac{1}{1-6} = 0.2'))\n",
    "display(Math(r'c_5 = -1^5 + \\sqrt{2*5} = \\sqrt{10}-1'))\n",
    "display(Math(r'd_5 = -1^{2*5} + \\frac{1}{5^2} = 1+ \\frac{1}{25} = 1.04'))"
   ]
  },
  {
   "cell_type": "markdown",
   "metadata": {
    "ExecuteTime": {
     "end_time": "2020-10-04T09:26:19.177794Z",
     "start_time": "2020-10-04T09:26:19.174949Z"
    }
   },
   "source": [
    "**Найти 12-й член заданной неявно последовательности**"
   ]
  },
  {
   "cell_type": "code",
   "execution_count": null,
   "metadata": {},
   "outputs": [],
   "source": []
  }
 ],
 "metadata": {
  "kernelspec": {
   "display_name": "Python 3",
   "language": "python",
   "name": "python3"
  },
  "language_info": {
   "codemirror_mode": {
    "name": "ipython",
    "version": 3
   },
   "file_extension": ".py",
   "mimetype": "text/x-python",
   "name": "python",
   "nbconvert_exporter": "python",
   "pygments_lexer": "ipython3",
   "version": "3.7.6"
  },
  "toc": {
   "base_numbering": 1,
   "nav_menu": {},
   "number_sections": true,
   "sideBar": true,
   "skip_h1_title": false,
   "title_cell": "Table of Contents",
   "title_sidebar": "Contents",
   "toc_cell": false,
   "toc_position": {},
   "toc_section_display": true,
   "toc_window_display": false
  },
  "varInspector": {
   "cols": {
    "lenName": 16,
    "lenType": 16,
    "lenVar": 40
   },
   "kernels_config": {
    "python": {
     "delete_cmd_postfix": "",
     "delete_cmd_prefix": "del ",
     "library": "var_list.py",
     "varRefreshCmd": "print(var_dic_list())"
    },
    "r": {
     "delete_cmd_postfix": ") ",
     "delete_cmd_prefix": "rm(",
     "library": "var_list.r",
     "varRefreshCmd": "cat(var_dic_list()) "
    }
   },
   "types_to_exclude": [
    "module",
    "function",
    "builtin_function_or_method",
    "instance",
    "_Feature"
   ],
   "window_display": false
  }
 },
 "nbformat": 4,
 "nbformat_minor": 4
}
