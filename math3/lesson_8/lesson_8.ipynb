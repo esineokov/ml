{
 "cells": [
  {
   "cell_type": "code",
   "execution_count": 1,
   "metadata": {},
   "outputs": [],
   "source": [
    "from IPython.display import Image\n",
    "from IPython.core.display import HTML \n",
    "from IPython.display import display, Math, Latex\n",
    "import matplotlib.pyplot as plt\n",
    "import numpy as np"
   ]
  },
  {
   "cell_type": "markdown",
   "metadata": {},
   "source": [
    "***Домашнее задание по теме «Производные функций нескольких переменных».***"
   ]
  },
  {
   "cell_type": "markdown",
   "metadata": {},
   "source": [
    "***1. Найти область определения функции.***"
   ]
  },
  {
   "cell_type": "code",
   "execution_count": 5,
   "metadata": {},
   "outputs": [
    {
     "data": {
      "text/latex": [
       "$\\displaystyle z = \\sqrt{1-x^3} + ln\\left(y^2 -1 \\right)$"
      ],
      "text/plain": [
       "<IPython.core.display.Math object>"
      ]
     },
     "metadata": {},
     "output_type": "display_data"
    }
   ],
   "source": [
    "display(Math(r'z = \\sqrt{1-x^3} + ln\\left(y^2 -1 \\right)'))"
   ]
  },
  {
   "cell_type": "code",
   "execution_count": 41,
   "metadata": {},
   "outputs": [
    {
     "data": {
      "text/latex": [
       "$\\displaystyle \\begin{cases} 1 - x^3 \\geq 0 \\\\ y^2 - 1 > 0 \\end{cases} \\Leftrightarrow \\begin{cases}x^3 \\leq 1 \\\\ (y-1)(y+1) > 0 \\end{cases} \\Leftrightarrow \\begin{cases} x \\leq 1 \\\\ \\lceil y < -1 \\\\ \\lfloor\t y > 1 \\end{cases}$"
      ],
      "text/plain": [
       "<IPython.core.display.Math object>"
      ]
     },
     "metadata": {},
     "output_type": "display_data"
    }
   ],
   "source": [
    "display(Math(r'\\begin{cases} 1 - x^3 \\geq 0 \\\\ y^2 - 1 > 0 \\end{cases} \\Leftrightarrow \\begin{cases}x^3 \\leq 1 \\\\ (y-1)(y+1) > 0 \\end{cases} \\Leftrightarrow \\begin{cases} x \\leq 1 \\\\ \\lceil y < -1 \\\\ \\lfloor\t y > 1 \\end{cases}'))"
   ]
  },
  {
   "cell_type": "markdown",
   "metadata": {},
   "source": [
    "***2. Найти производные 1-го порядка функции.***"
   ]
  },
  {
   "cell_type": "code",
   "execution_count": 7,
   "metadata": {},
   "outputs": [
    {
     "data": {
      "text/latex": [
       "$\\displaystyle z = \\left(1 + \\frac{ln x}{ln y}\\right)^3$"
      ],
      "text/plain": [
       "<IPython.core.display.Math object>"
      ]
     },
     "metadata": {},
     "output_type": "display_data"
    }
   ],
   "source": [
    "display(Math(r'z = \\left(1 + \\frac{ln x}{ln y}\\right)^3'))"
   ]
  },
  {
   "cell_type": "code",
   "execution_count": 42,
   "metadata": {},
   "outputs": [],
   "source": [
    "# ???"
   ]
  },
  {
   "cell_type": "markdown",
   "metadata": {},
   "source": [
    "***3. Найти полный дифференциал функции в точке (1;1).***\n",
    "\n"
   ]
  },
  {
   "cell_type": "code",
   "execution_count": 11,
   "metadata": {},
   "outputs": [
    {
     "data": {
      "text/latex": [
       "$\\displaystyle \\sqrt{2xy + cos\\frac{x}{y}}$"
      ],
      "text/plain": [
       "<IPython.core.display.Math object>"
      ]
     },
     "metadata": {},
     "output_type": "display_data"
    }
   ],
   "source": [
    "display(Math(r'\\sqrt{2xy + cos\\frac{x}{y}}'))"
   ]
  },
  {
   "cell_type": "code",
   "execution_count": 44,
   "metadata": {},
   "outputs": [
    {
     "data": {
      "text/latex": [
       "$\\displaystyle dz = z^{\\prime}_x * dx + z^{\\prime}_y * dy$"
      ],
      "text/plain": [
       "<IPython.core.display.Math object>"
      ]
     },
     "metadata": {},
     "output_type": "display_data"
    }
   ],
   "source": [
    "display(Math(r'dz = z^{\\prime}_x * dx + z^{\\prime}_y * dy'))"
   ]
  },
  {
   "cell_type": "code",
   "execution_count": 46,
   "metadata": {},
   "outputs": [
    {
     "data": {
      "text/latex": [
       "$\\displaystyle z = \\sqrt{2xy + cos\\frac{x}{y}} = (2xy + cos \\frac{x}{y})^{1/2}$"
      ],
      "text/plain": [
       "<IPython.core.display.Math object>"
      ]
     },
     "metadata": {},
     "output_type": "display_data"
    }
   ],
   "source": [
    "display(Math(r'z = \\sqrt{2xy + cos\\frac{x}{y}} = (2xy + cos \\frac{x}{y})^{1/2}'))"
   ]
  },
  {
   "cell_type": "code",
   "execution_count": 56,
   "metadata": {},
   "outputs": [
    {
     "data": {
      "text/latex": [
       "$\\displaystyle z^{\\prime}_x = \\frac{1}{2 * \\sqrt{2xy + cos \\frac{x}{y}}} * (2xy + cos \\frac{x}{y})^{\\prime}_x = \\frac{1}{2\\sqrt{2xy + cos \\frac{x}{y}}} * \\left( 2y - \\left( sin \\frac{x}{y} \\right) * \\frac{1}{y} \\right)$"
      ],
      "text/plain": [
       "<IPython.core.display.Math object>"
      ]
     },
     "metadata": {},
     "output_type": "display_data"
    }
   ],
   "source": [
    "display(Math(r'z^{\\prime}_x = \\frac{1}{2 * \\sqrt{2xy + cos \\frac{x}{y}}} * (2xy + cos \\frac{x}{y})^{\\prime}_x = \\frac{1}{2\\sqrt{2xy + cos \\frac{x}{y}}} * \\left( 2y - \\left( sin \\frac{x}{y} \\right) * \\frac{1}{y} \\right)'))"
   ]
  },
  {
   "cell_type": "code",
   "execution_count": 58,
   "metadata": {},
   "outputs": [
    {
     "data": {
      "text/latex": [
       "$\\displaystyle z^{\\prime}_y = \\frac{1}{2 * \\sqrt{2xy + cos \\frac{x}{y}}} * (2xy + cos \\frac{x}{y})^{\\prime}_y = \\frac{1}{2\\sqrt{2xy + cos \\frac{x}{y}}} * \\left( 2x - \\left( sin \\frac{x}{y} \\right) * x \\frac{1}{y^2} \\right) = $"
      ],
      "text/plain": [
       "<IPython.core.display.Math object>"
      ]
     },
     "metadata": {},
     "output_type": "display_data"
    }
   ],
   "source": [
    "display(Math(r'z^{\\prime}_y = \\frac{1}{2 * \\sqrt{2xy + cos \\frac{x}{y}}} * (2xy + cos \\frac{x}{y})^{\\prime}_y = \\frac{1}{2\\sqrt{2xy + cos \\frac{x}{y}}} * \\left( 2x - \\left( sin \\frac{x}{y} \\right) * x \\frac{1}{y^2} \\right) = '))"
   ]
  },
  {
   "cell_type": "code",
   "execution_count": 61,
   "metadata": {},
   "outputs": [
    {
     "data": {
      "text/latex": [
       "$\\displaystyle = \\frac{x * \\left( 2 + \\frac{sin \\frac{x}{y}}{y^2}\\right)}{2 \\sqrt{2xy + cos \\frac {x}{y}}}$"
      ],
      "text/plain": [
       "<IPython.core.display.Math object>"
      ]
     },
     "metadata": {},
     "output_type": "display_data"
    }
   ],
   "source": [
    "display(Math(r'= \\frac{x * \\left( 2 + \\frac{sin \\frac{x}{y}}{y^2}\\right)}{2 \\sqrt{2xy + cos \\frac {x}{y}}}'))"
   ]
  },
  {
   "cell_type": "code",
   "execution_count": 63,
   "metadata": {},
   "outputs": [
    {
     "data": {
      "text/latex": [
       "$\\displaystyle z^{\\prime}_x(1;1) = \\frac{1}{2\\sqrt{2 + cos1}} * (2 - sin x)$"
      ],
      "text/plain": [
       "<IPython.core.display.Math object>"
      ]
     },
     "metadata": {},
     "output_type": "display_data"
    }
   ],
   "source": [
    "display(Math(r'z^{\\prime}_x(1;1) = \\frac{1}{2\\sqrt{2 + cos1}} * (2 - sin x)'))"
   ]
  },
  {
   "cell_type": "code",
   "execution_count": 65,
   "metadata": {},
   "outputs": [
    {
     "data": {
      "text/latex": [
       "$\\displaystyle z^{\\prime}_y(1;1) = \\frac{2 + sin 1}{2\\sqrt{2 + cos1}}$"
      ],
      "text/plain": [
       "<IPython.core.display.Math object>"
      ]
     },
     "metadata": {},
     "output_type": "display_data"
    }
   ],
   "source": [
    "display(Math(r'z^{\\prime}_y(1;1) = \\frac{2 + sin 1}{2\\sqrt{2 + cos1}}'))"
   ]
  },
  {
   "cell_type": "code",
   "execution_count": 66,
   "metadata": {},
   "outputs": [
    {
     "data": {
      "text/latex": [
       "$\\displaystyle dz = \\frac{2 - sin 1}{2 \\sqrt{2 + cos 1}}dx + \\frac{2 + sin 1}{2 \\sqrt{2 + cos 1}} * dy$"
      ],
      "text/plain": [
       "<IPython.core.display.Math object>"
      ]
     },
     "metadata": {},
     "output_type": "display_data"
    }
   ],
   "source": [
    "display(Math(r'dz = \\frac{2 - sin 1}{2 \\sqrt{2 + cos 1}}dx + \\frac{2 + sin 1}{2 \\sqrt{2 + cos 1}} * dy'))"
   ]
  },
  {
   "cell_type": "code",
   "execution_count": 70,
   "metadata": {},
   "outputs": [
    {
     "data": {
      "text/latex": [
       "$\\displaystyle sin 1 \\approx 0.841 \\\\ cos 1 \\approx 0.54$"
      ],
      "text/plain": [
       "<IPython.core.display.Math object>"
      ]
     },
     "metadata": {},
     "output_type": "display_data"
    }
   ],
   "source": [
    "display(Math(r'sin 1 \\approx 0.841 \\\\ cos 1 \\approx 0.54'))"
   ]
  },
  {
   "cell_type": "code",
   "execution_count": 71,
   "metadata": {},
   "outputs": [
    {
     "data": {
      "text/latex": [
       "$\\displaystyle \\frac{1.159}{3.187} * dx + \\frac{2.841}{3.187} dy$"
      ],
      "text/plain": [
       "<IPython.core.display.Math object>"
      ]
     },
     "metadata": {},
     "output_type": "display_data"
    }
   ],
   "source": [
    "display(Math(r'\\frac{1.159}{3.187} * dx + \\frac{2.841}{3.187} dy'))"
   ]
  },
  {
   "cell_type": "code",
   "execution_count": 72,
   "metadata": {},
   "outputs": [
    {
     "data": {
      "text/latex": [
       "$\\displaystyle dz(1;1) = 0.36 dx + 0.891dy$"
      ],
      "text/plain": [
       "<IPython.core.display.Math object>"
      ]
     },
     "metadata": {},
     "output_type": "display_data"
    }
   ],
   "source": [
    "display(Math(r'dz(1;1) = 0.36 dx + 0.891dy'))"
   ]
  },
  {
   "cell_type": "markdown",
   "metadata": {},
   "source": [
    "***4. Исследовать на экстремум функцию***\n"
   ]
  },
  {
   "cell_type": "code",
   "execution_count": 13,
   "metadata": {},
   "outputs": [
    {
     "data": {
      "text/latex": [
       "$\\displaystyle x^2 + xy + y^2 - 6x - 9y$"
      ],
      "text/plain": [
       "<IPython.core.display.Math object>"
      ]
     },
     "metadata": {},
     "output_type": "display_data"
    }
   ],
   "source": [
    "display(Math(r'x^2 + xy + y^2 - 6x - 9y'))"
   ]
  },
  {
   "cell_type": "code",
   "execution_count": null,
   "metadata": {},
   "outputs": [],
   "source": []
  }
 ],
 "metadata": {
  "kernelspec": {
   "display_name": "Python 3",
   "language": "python",
   "name": "python3"
  },
  "language_info": {
   "codemirror_mode": {
    "name": "ipython",
    "version": 3
   },
   "file_extension": ".py",
   "mimetype": "text/x-python",
   "name": "python",
   "nbconvert_exporter": "python",
   "pygments_lexer": "ipython3",
   "version": "3.8.5"
  }
 },
 "nbformat": 4,
 "nbformat_minor": 4
}
