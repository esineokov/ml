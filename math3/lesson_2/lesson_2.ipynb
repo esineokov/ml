{
 "cells": [
  {
   "cell_type": "code",
   "execution_count": 18,
   "metadata": {
    "ExecuteTime": {
     "end_time": "2020-10-03T19:30:49.505618Z",
     "start_time": "2020-10-03T19:30:49.499576Z"
    }
   },
   "outputs": [],
   "source": [
    "from IPython.display import Image\n",
    "from IPython.core.display import HTML \n",
    "from IPython.display import display, Math, Latex"
   ]
  },
  {
   "cell_type": "markdown",
   "metadata": {},
   "source": [
    "### Тема “Введение в математических анализ”"
   ]
  },
  {
   "cell_type": "markdown",
   "metadata": {},
   "source": [
    "**1. Как относятся друг к другу множество и последовательность? (в ответе использовать слова типа: часть, целое, общее, частное, родитель, дочерний субъект и т.д.)**\n",
    "\n",
    "Ответ: Последовательность - это часть множества."
   ]
  },
  {
   "cell_type": "markdown",
   "metadata": {},
   "source": [
    "**2. Прочитать высказывания математической логики, построить их отрицания и установить истинность.**"
   ]
  },
  {
   "cell_type": "code",
   "execution_count": 19,
   "metadata": {
    "ExecuteTime": {
     "end_time": "2020-10-03T20:19:47.546147Z",
     "start_time": "2020-10-03T20:19:47.535651Z"
    }
   },
   "outputs": [
    {
     "data": {
      "text/html": [
       "<img src=\"./image1.png\" width=\"400\" height=\"400\"/>"
      ],
      "text/plain": [
       "<IPython.core.display.Image object>"
      ]
     },
     "execution_count": 19,
     "metadata": {},
     "output_type": "execute_result"
    }
   ],
   "source": [
    "Image(url= \"./image1.png\", width=400, height=400)"
   ]
  },
  {
   "cell_type": "markdown",
   "metadata": {
    "ExecuteTime": {
     "end_time": "2020-10-03T19:04:05.188840Z",
     "start_time": "2020-10-03T19:04:05.184867Z"
    }
   },
   "source": [
    "* Для любого \"y\" принадлежащего от 0 до 1 включительно функция sgn от \"y\" будет равна 1. Ложь\n",
    "* Для любого \"n\" принадлежащего к области натуральных чисел больше 2 существуют натуральные \"x\", \"y\" и \"z\" для которых будет справедливо равенство: x^n = y^n + z^n. Ложь\n",
    "* Для любого вещественного \"x\" существует вещественное \"X\", которое будет больше \"x\". Истина\n",
    "* Для любого комплексного \"x\" не существует такого комплесного \"y\", которое было бы больше или меньще \"x\". И ложь и истина\n",
    "* Для любого \"y\" на отреке от 0 до пи/2 включительно существует положительное \"e\" при котором синус \"y\" меньше чем синус от \"y\" + \"e\". Ложь\n",
    "* Для дюбого \"y\" на интервале от 0 (включительно) до пи (не вулбчительно) существует положительное \"е\" при котором косинус от \"y\" больше чем косинус от \"y\" + \"e\". Истина\n",
    "* Существует \"x\" не являющийся натуральным, целым, рациональный, вещественным или комплексным числом. Истина\n"
   ]
  },
  {
   "cell_type": "markdown",
   "metadata": {},
   "source": [
    "Отрицания"
   ]
  },
  {
   "cell_type": "code",
   "execution_count": 20,
   "metadata": {
    "ExecuteTime": {
     "end_time": "2020-10-03T20:19:48.657111Z",
     "start_time": "2020-10-03T20:19:48.646129Z"
    }
   },
   "outputs": [
    {
     "data": {
      "text/latex": [
       "$\\displaystyle \\exists y\\in [0;1]: sgn(y) \\neq 1$"
      ],
      "text/plain": [
       "<IPython.core.display.Math object>"
      ]
     },
     "metadata": {},
     "output_type": "display_data"
    },
    {
     "data": {
      "text/latex": [
       "$\\displaystyle \\exists n\\in N > 2:\\forall x,y,z \\in N:x^n \\neq y^n + z^n$"
      ],
      "text/plain": [
       "<IPython.core.display.Math object>"
      ]
     },
     "metadata": {},
     "output_type": "display_data"
    },
    {
     "data": {
      "text/latex": [
       "$\\displaystyle \\exists x \\in R\\forall X\\in R: X \\leq x$"
      ],
      "text/plain": [
       "<IPython.core.display.Math object>"
      ]
     },
     "metadata": {},
     "output_type": "display_data"
    },
    {
     "data": {
      "text/latex": [
       "$\\displaystyle \\exists x \\in C \\exists y \\in C : x \\leq y || x \\geq y$"
      ],
      "text/plain": [
       "<IPython.core.display.Math object>"
      ]
     },
     "metadata": {},
     "output_type": "display_data"
    },
    {
     "data": {
      "text/latex": [
       "$\\displaystyle \\exists y \\in [0; \\frac{\\pi}{2}]\\forall \\epsilon > 0: sin (y) \\geq sin (y + \\epsilon)$"
      ],
      "text/plain": [
       "<IPython.core.display.Math object>"
      ]
     },
     "metadata": {},
     "output_type": "display_data"
    },
    {
     "data": {
      "text/latex": [
       "$\\displaystyle \\exists y \\in [0; \\pi)\\forall \\epsilon > 0: cos(y) \\leq cos (y + \\epsilon)$"
      ],
      "text/plain": [
       "<IPython.core.display.Math object>"
      ]
     },
     "metadata": {},
     "output_type": "display_data"
    },
    {
     "data": {
      "text/latex": [
       "$\\displaystyle \\forall x: x \\in \\{N,Z,Q,R,C\\}$"
      ],
      "text/plain": [
       "<IPython.core.display.Math object>"
      ]
     },
     "metadata": {},
     "output_type": "display_data"
    }
   ],
   "source": [
    "display(Math(r'\\exists y\\in [0;1]: sgn(y) \\neq 1'))\n",
    "display(Math(r'\\exists n\\in N > 2:\\forall x,y,z \\in N:x^n \\neq y^n + z^n'))\n",
    "display(Math(r'\\exists x \\in R\\forall X\\in R: X \\leq x'))\n",
    "display(Math(r'\\exists x \\in C \\exists y \\in C : x \\leq y || x \\geq y'))\n",
    "display(Math(r'\\exists y \\in [0; \\frac{\\pi}{2}]\\forall \\epsilon > 0: sin (y) \\geq sin (y + \\epsilon)'))\n",
    "display(Math(r'\\exists y \\in [0; \\pi)\\forall \\epsilon > 0: cos(y) \\leq cos (y + \\epsilon)'))\n",
    "display(Math(r'\\forall x: x \\in \\{N,Z,Q,R,C\\}'))"
   ]
  },
  {
   "cell_type": "markdown",
   "metadata": {
    "ExecuteTime": {
     "end_time": "2020-10-03T20:23:56.503600Z",
     "start_time": "2020-10-03T20:23:56.501250Z"
    }
   },
   "source": [
    "### Тема “Множество”"
   ]
  },
  {
   "cell_type": "markdown",
   "metadata": {
    "ExecuteTime": {
     "end_time": "2020-10-03T19:42:02.149254Z",
     "start_time": "2020-10-03T19:42:02.144076Z"
    }
   },
   "source": [
    "**1.Даны три множества a,b и с. Необходимо выполнить все изученные виды бинарных операций над всеми комбинациями множеств.**"
   ]
  },
  {
   "cell_type": "markdown",
   "metadata": {
    "ExecuteTime": {
     "end_time": "2020-10-03T20:31:50.819099Z",
     "start_time": "2020-10-03T20:31:50.814388Z"
    }
   },
   "source": [
    "a = {1, 2, 3}\n",
    "\n",
    "b = {3, 4, 5}\n",
    "\n",
    "c = {1, 5, 9}"
   ]
  },
  {
   "cell_type": "markdown",
   "metadata": {},
   "source": [
    "Объединение:"
   ]
  },
  {
   "cell_type": "code",
   "execution_count": 21,
   "metadata": {
    "ExecuteTime": {
     "end_time": "2020-10-03T20:46:52.958694Z",
     "start_time": "2020-10-03T20:46:52.952721Z"
    }
   },
   "outputs": [
    {
     "data": {
      "text/latex": [
       "$\\displaystyle a \\cup b = \\{1, 2, 3, 4, 5\\}$"
      ],
      "text/plain": [
       "<IPython.core.display.Math object>"
      ]
     },
     "metadata": {},
     "output_type": "display_data"
    },
    {
     "data": {
      "text/latex": [
       "$\\displaystyle b \\cup c = \\{1, 3, 4, 5, 9\\}$"
      ],
      "text/plain": [
       "<IPython.core.display.Math object>"
      ]
     },
     "metadata": {},
     "output_type": "display_data"
    },
    {
     "data": {
      "text/latex": [
       "$\\displaystyle a \\cup c = \\{1, 2, 3, 5 ,9\\}$"
      ],
      "text/plain": [
       "<IPython.core.display.Math object>"
      ]
     },
     "metadata": {},
     "output_type": "display_data"
    }
   ],
   "source": [
    "display(Math(r'a \\cup b = \\{1, 2, 3, 4, 5\\}'))\n",
    "display(Math(r'b \\cup c = \\{1, 3, 4, 5, 9\\}'))\n",
    "display(Math(r'a \\cup c = \\{1, 2, 3, 5 ,9\\}'))"
   ]
  },
  {
   "cell_type": "markdown",
   "metadata": {
    "ExecuteTime": {
     "end_time": "2020-10-03T20:34:34.705279Z",
     "start_time": "2020-10-03T20:34:34.701506Z"
    }
   },
   "source": [
    "Разность:"
   ]
  },
  {
   "cell_type": "markdown",
   "metadata": {
    "ExecuteTime": {
     "end_time": "2020-10-03T20:37:08.212578Z",
     "start_time": "2020-10-03T20:37:08.206134Z"
    }
   },
   "source": [
    "a \\ b = {1, 2}\n",
    "\n",
    "b \\ a = {4, 5}\n",
    "\n",
    "b \\ c = {3, 4}\n",
    "\n",
    "c \\ b = {1, 9}\n",
    "\n",
    "a \\ c = {2, 3}\n",
    "\n",
    "c \\ a = {5, 9}"
   ]
  },
  {
   "cell_type": "markdown",
   "metadata": {},
   "source": [
    "Пересечение:"
   ]
  },
  {
   "cell_type": "code",
   "execution_count": 22,
   "metadata": {
    "ExecuteTime": {
     "end_time": "2020-10-03T20:42:15.646539Z",
     "start_time": "2020-10-03T20:42:15.639357Z"
    }
   },
   "outputs": [
    {
     "data": {
      "text/latex": [
       "$\\displaystyle a \\cap b = \\{3\\}$"
      ],
      "text/plain": [
       "<IPython.core.display.Math object>"
      ]
     },
     "metadata": {},
     "output_type": "display_data"
    },
    {
     "data": {
      "text/latex": [
       "$\\displaystyle b \\cap c = \\{5\\}$"
      ],
      "text/plain": [
       "<IPython.core.display.Math object>"
      ]
     },
     "metadata": {},
     "output_type": "display_data"
    },
    {
     "data": {
      "text/latex": [
       "$\\displaystyle a \\cap c = \\{1\\}$"
      ],
      "text/plain": [
       "<IPython.core.display.Math object>"
      ]
     },
     "metadata": {},
     "output_type": "display_data"
    }
   ],
   "source": [
    "display(Math(r'a \\cap b = \\{3\\}'))\n",
    "display(Math(r'b \\cap c = \\{5\\}'))\n",
    "display(Math(r'a \\cap c = \\{1\\}'))"
   ]
  },
  {
   "cell_type": "markdown",
   "metadata": {},
   "source": [
    "Симметрическая разность"
   ]
  },
  {
   "cell_type": "code",
   "execution_count": 23,
   "metadata": {
    "ExecuteTime": {
     "end_time": "2020-10-03T20:47:33.142730Z",
     "start_time": "2020-10-03T20:47:33.135217Z"
    }
   },
   "outputs": [
    {
     "data": {
      "text/latex": [
       "$\\displaystyle a \\Delta b = \\{1, 2, 4, 5\\}$"
      ],
      "text/plain": [
       "<IPython.core.display.Math object>"
      ]
     },
     "metadata": {},
     "output_type": "display_data"
    },
    {
     "data": {
      "text/latex": [
       "$\\displaystyle b \\Delta c = \\{1, 3, 4, 9\\}$"
      ],
      "text/plain": [
       "<IPython.core.display.Math object>"
      ]
     },
     "metadata": {},
     "output_type": "display_data"
    },
    {
     "data": {
      "text/latex": [
       "$\\displaystyle a \\Delta c = \\{2, 3, 5 ,9\\}$"
      ],
      "text/plain": [
       "<IPython.core.display.Math object>"
      ]
     },
     "metadata": {},
     "output_type": "display_data"
    }
   ],
   "source": [
    "display(Math(r'a \\Delta b = \\{1, 2, 4, 5\\}'))\n",
    "display(Math(r'b \\Delta c = \\{1, 3, 4, 9\\}'))\n",
    "display(Math(r'a \\Delta c = \\{2, 3, 5 ,9\\}'))"
   ]
  },
  {
   "cell_type": "markdown",
   "metadata": {
    "ExecuteTime": {
     "end_time": "2020-10-03T20:47:54.931922Z",
     "start_time": "2020-10-03T20:47:54.927686Z"
    }
   },
   "source": [
    "**2. *Выполнить задание 1 на языке Python**"
   ]
  },
  {
   "cell_type": "code",
   "execution_count": 24,
   "metadata": {
    "ExecuteTime": {
     "end_time": "2020-10-03T20:49:42.603317Z",
     "start_time": "2020-10-03T20:49:42.599446Z"
    }
   },
   "outputs": [],
   "source": [
    "a = set([1, 2, 3])\n",
    "b = set([3, 4, 5])\n",
    "c = set([1, 5, 9])"
   ]
  },
  {
   "cell_type": "markdown",
   "metadata": {},
   "source": [
    "Объединение:"
   ]
  },
  {
   "cell_type": "code",
   "execution_count": 25,
   "metadata": {
    "ExecuteTime": {
     "end_time": "2020-10-03T20:51:04.335212Z",
     "start_time": "2020-10-03T20:51:04.328944Z"
    }
   },
   "outputs": [
    {
     "data": {
      "text/plain": [
       "({1, 2, 3, 5, 9}, {1, 3, 4, 5, 9}, {1, 2, 3, 5, 9})"
      ]
     },
     "execution_count": 25,
     "metadata": {},
     "output_type": "execute_result"
    }
   ],
   "source": [
    "auc, buc, auc = a.union(b), b.union(c), a.union(c)\n",
    "auc, buc, auc"
   ]
  },
  {
   "cell_type": "markdown",
   "metadata": {},
   "source": [
    "Разность:"
   ]
  },
  {
   "cell_type": "code",
   "execution_count": 26,
   "metadata": {
    "ExecuteTime": {
     "end_time": "2020-10-03T20:54:26.226449Z",
     "start_time": "2020-10-03T20:54:26.219450Z"
    }
   },
   "outputs": [
    {
     "data": {
      "text/plain": [
       "({1, 2}, {4, 5}, {3, 4}, {1, 9}, {2, 3}, {5, 9})"
      ]
     },
     "execution_count": 26,
     "metadata": {},
     "output_type": "execute_result"
    }
   ],
   "source": [
    "adb = a.difference(b)\n",
    "bda = b.difference(a)\n",
    "bdc = b.difference(c)\n",
    "cdb = c.difference(b)\n",
    "adc = a.difference(c)\n",
    "cda = c.difference(a)\n",
    "adb, bda, bdc, cdb, adc, cda"
   ]
  },
  {
   "cell_type": "markdown",
   "metadata": {},
   "source": [
    "Пересечение:"
   ]
  },
  {
   "cell_type": "code",
   "execution_count": 27,
   "metadata": {
    "ExecuteTime": {
     "end_time": "2020-10-03T20:55:48.945753Z",
     "start_time": "2020-10-03T20:55:48.939933Z"
    }
   },
   "outputs": [
    {
     "data": {
      "text/plain": [
       "({3}, {5}, {1})"
      ]
     },
     "execution_count": 27,
     "metadata": {},
     "output_type": "execute_result"
    }
   ],
   "source": [
    "aib, bic, cib = a.intersection(b), b.intersection(c), c.intersection(a)\n",
    "aib, bic, cib"
   ]
  },
  {
   "cell_type": "markdown",
   "metadata": {},
   "source": [
    "Симметрическая разность"
   ]
  },
  {
   "cell_type": "code",
   "execution_count": 28,
   "metadata": {
    "ExecuteTime": {
     "end_time": "2020-10-03T20:56:55.063543Z",
     "start_time": "2020-10-03T20:56:55.058920Z"
    }
   },
   "outputs": [
    {
     "data": {
      "text/plain": [
       "({1, 2, 4, 5}, {1, 3, 4, 9}, {2, 3, 5, 9})"
      ]
     },
     "execution_count": 28,
     "metadata": {},
     "output_type": "execute_result"
    }
   ],
   "source": [
    "asdb = a.symmetric_difference(b)\n",
    "bsdc = b.symmetric_difference(c)\n",
    "csda = c.symmetric_difference(a)\n",
    "asdb, bsdc, csda"
   ]
  },
  {
   "cell_type": "code",
   "execution_count": null,
   "metadata": {},
   "outputs": [],
   "source": []
  }
 ],
 "metadata": {
  "kernelspec": {
   "display_name": "Python 3",
   "language": "python",
   "name": "python3"
  },
  "language_info": {
   "codemirror_mode": {
    "name": "ipython",
    "version": 3
   },
   "file_extension": ".py",
   "mimetype": "text/x-python",
   "name": "python",
   "nbconvert_exporter": "python",
   "pygments_lexer": "ipython3",
   "version": "3.8.5"
  }
 },
 "nbformat": 4,
 "nbformat_minor": 4
}
