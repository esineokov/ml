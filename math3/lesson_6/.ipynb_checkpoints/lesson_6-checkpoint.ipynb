{
 "cells": [
  {
   "cell_type": "code",
   "execution_count": 58,
   "metadata": {},
   "outputs": [],
   "source": [
    "from IPython.display import Image\n",
    "from IPython.core.display import HTML \n",
    "from IPython.display import display, Math, Latex\n",
    "import matplotlib.pyplot as plt\n",
    "import numpy as np"
   ]
  },
  {
   "cell_type": "markdown",
   "metadata": {},
   "source": [
    "***Тема 6 “Понятие о производной”***"
   ]
  },
  {
   "cell_type": "markdown",
   "metadata": {},
   "source": [
    "***1. Найти производную выражения:***"
   ]
  },
  {
   "cell_type": "code",
   "execution_count": 59,
   "metadata": {},
   "outputs": [
    {
     "data": {
      "text/latex": [
       "$\\displaystyle \\textbf{c. } \\left(\\sqrt{sin^2(ln(x^3))}\\right)^{\\prime} = \\frac{1}{2\\sqrt{sin^2(ln(x^3))}}*(sin^2(ln(x^3)))^{\\prime} = $"
      ],
      "text/plain": [
       "<IPython.core.display.Math object>"
      ]
     },
     "metadata": {},
     "output_type": "display_data"
    }
   ],
   "source": [
    "display(Math(r'\\textbf{c. } \\left(\\sqrt{sin^2(ln(x^3))}\\right)^{\\prime} = \\frac{1}{2\\sqrt{sin^2(ln(x^3))}}*(sin^2(ln(x^3)))^{\\prime} = '))"
   ]
  },
  {
   "cell_type": "code",
   "execution_count": 60,
   "metadata": {},
   "outputs": [
    {
     "data": {
      "text/latex": [
       "$\\displaystyle \\textbf{c. } = \\frac{1}{2\\sqrt{sin^2(ln(x^3))}}*2sin(ln(x^3))*(sin(ln(x^3)))^{\\prime} = $"
      ],
      "text/plain": [
       "<IPython.core.display.Math object>"
      ]
     },
     "metadata": {},
     "output_type": "display_data"
    }
   ],
   "source": [
    "display(Math(r'\\textbf{c. } = \\frac{1}{2\\sqrt{sin^2(ln(x^3))}}*2sin(ln(x^3))*(sin(ln(x^3)))^{\\prime} = '))"
   ]
  },
  {
   "cell_type": "code",
   "execution_count": 61,
   "metadata": {},
   "outputs": [
    {
     "data": {
      "text/latex": [
       "$\\displaystyle \\textbf{c. } = \\frac{1}{2\\sqrt{sin^2(ln(x^3))}}*2sin(ln(x^3))*cos(ln(x^3))*(ln(x^3))^{\\prime} = $"
      ],
      "text/plain": [
       "<IPython.core.display.Math object>"
      ]
     },
     "metadata": {},
     "output_type": "display_data"
    }
   ],
   "source": [
    "display(Math(r'\\textbf{c. } = \\frac{1}{2\\sqrt{sin^2(ln(x^3))}}*2sin(ln(x^3))*cos(ln(x^3))*(ln(x^3))^{\\prime} = '))"
   ]
  },
  {
   "cell_type": "code",
   "execution_count": 62,
   "metadata": {},
   "outputs": [
    {
     "data": {
      "text/latex": [
       "$\\displaystyle \\textbf{c. } = \\frac{sin(ln(x^3))}{\\sqrt{sin^2(ln(x^3))}} * cos(ln(x^3)) * \\frac{1}{x^3} * (x^2)^{\\prime}$"
      ],
      "text/plain": [
       "<IPython.core.display.Math object>"
      ]
     },
     "metadata": {},
     "output_type": "display_data"
    }
   ],
   "source": [
    "display(Math(r'\\textbf{c. } = \\frac{sin(ln(x^3))}{\\sqrt{sin^2(ln(x^3))}} * cos(ln(x^3)) * \\frac{1}{x^3} * (x^2)^{\\prime}'))"
   ]
  },
  {
   "cell_type": "code",
   "execution_count": 63,
   "metadata": {},
   "outputs": [
    {
     "data": {
      "text/latex": [
       "$\\displaystyle \\textbf{c. } = \\frac{sin(ln(x^3))}{\\sqrt{sin^2(ln(x^3))}} * cos(ln(x^3)) * \\frac{3x^2}{x^3}$"
      ],
      "text/plain": [
       "<IPython.core.display.Math object>"
      ]
     },
     "metadata": {},
     "output_type": "display_data"
    }
   ],
   "source": [
    "display(Math(r'\\textbf{c. } = \\frac{sin(ln(x^3))}{\\sqrt{sin^2(ln(x^3))}} * cos(ln(x^3)) * \\frac{3x^2}{x^3}'))"
   ]
  },
  {
   "cell_type": "markdown",
   "metadata": {},
   "source": [
    "***2. Найти выражение производной функции и ее значение в точке:***"
   ]
  },
  {
   "cell_type": "code",
   "execution_count": 64,
   "metadata": {},
   "outputs": [
    {
     "data": {
      "text/latex": [
       "$\\displaystyle f(x) = cos(x^2 + 3x), x_0 = \\sqrt{\\pi}$"
      ],
      "text/plain": [
       "<IPython.core.display.Math object>"
      ]
     },
     "metadata": {},
     "output_type": "display_data"
    }
   ],
   "source": [
    "display(Math(r'f(x) = cos(x^2 + 3x), x_0 = \\sqrt{\\pi}'))"
   ]
  },
  {
   "cell_type": "code",
   "execution_count": 65,
   "metadata": {},
   "outputs": [
    {
     "data": {
      "text/latex": [
       "$\\displaystyle f^{\\prime}(x) = -sin(x^2 + 3x)*(2x + 3)$"
      ],
      "text/plain": [
       "<IPython.core.display.Math object>"
      ]
     },
     "metadata": {},
     "output_type": "display_data"
    }
   ],
   "source": [
    "display(Math(r'f^{\\prime}(x) = -sin(x^2 + 3x)*(2x + 3)'))"
   ]
  },
  {
   "cell_type": "code",
   "execution_count": 66,
   "metadata": {},
   "outputs": [
    {
     "data": {
      "text/latex": [
       "$\\displaystyle f^{\\prime}(\\sqrt{\\pi}) = -sin((\\sqrt{\\pi})^2 + 3\\sqrt{\\pi})*(2\\sqrt{\\pi} + 3)$"
      ],
      "text/plain": [
       "<IPython.core.display.Math object>"
      ]
     },
     "metadata": {},
     "output_type": "display_data"
    }
   ],
   "source": [
    "display(Math(r'f^{\\prime}(\\sqrt{\\pi}) = -sin((\\sqrt{\\pi})^2 + 3\\sqrt{\\pi})*(2\\sqrt{\\pi} + 3)'))"
   ]
  },
  {
   "cell_type": "markdown",
   "metadata": {},
   "source": [
    "***3 Найти значение производной функции в точке:***"
   ]
  },
  {
   "cell_type": "code",
   "execution_count": 67,
   "metadata": {},
   "outputs": [
    {
     "data": {
      "text/latex": [
       "$\\displaystyle f(x) = \\frac{x^3 - x^2 - x - 1}{1 + 2x + 3x^2 - 4x^3}, x_0 = 0$"
      ],
      "text/plain": [
       "<IPython.core.display.Math object>"
      ]
     },
     "metadata": {},
     "output_type": "display_data"
    }
   ],
   "source": [
    "display(Math(r'f(x) = \\frac{x^3 - x^2 - x - 1}{1 + 2x + 3x^2 - 4x^3}, x_0 = 0'))"
   ]
  },
  {
   "cell_type": "code",
   "execution_count": 68,
   "metadata": {},
   "outputs": [
    {
     "data": {
      "text/latex": [
       "$\\displaystyle f^{\\prime}(x) = \\frac{(3x^2-2x-1)*(1+2x+3x^2-4x^3) - (x^3-x^2-x-1)*(2+6x-12x^2)}{(1+2x+3x^2-4x^3)^2}$"
      ],
      "text/plain": [
       "<IPython.core.display.Math object>"
      ]
     },
     "metadata": {},
     "output_type": "display_data"
    }
   ],
   "source": [
    "display(Math(r'f^{\\prime}(x) = \\frac{(3x^2-2x-1)*(1+2x+3x^2-4x^3) - (x^3-x^2-x-1)*(2+6x-12x^2)}{(1+2x+3x^2-4x^3)^2}'))"
   ]
  },
  {
   "cell_type": "code",
   "execution_count": 69,
   "metadata": {},
   "outputs": [
    {
     "data": {
      "text/latex": [
       "$\\displaystyle f^{\\prime}(1) = 1$"
      ],
      "text/plain": [
       "<IPython.core.display.Math object>"
      ]
     },
     "metadata": {},
     "output_type": "display_data"
    }
   ],
   "source": [
    "display(Math(r'f^{\\prime}(1) = 1'))"
   ]
  },
  {
   "cell_type": "markdown",
   "metadata": {},
   "source": [
    "***4. Найти угол наклона касательной к графику функции в точке:***"
   ]
  },
  {
   "cell_type": "code",
   "execution_count": 70,
   "metadata": {},
   "outputs": [
    {
     "data": {
      "text/latex": [
       "$\\displaystyle f(x) = \\sqrt{3x} * ln(x), x_0=1$"
      ],
      "text/plain": [
       "<IPython.core.display.Math object>"
      ]
     },
     "metadata": {},
     "output_type": "display_data"
    }
   ],
   "source": [
    "display(Math(r'f(x) = \\sqrt{3x} * ln(x), x_0=1'))"
   ]
  },
  {
   "cell_type": "code",
   "execution_count": 71,
   "metadata": {},
   "outputs": [
    {
     "data": {
      "text/latex": [
       "$\\displaystyle f^{\\prime}(x) = (\\sqrt{3x})^{\\prime} * ln(x) + \\sqrt{3x}*(ln(x))^{\\prime} = \\frac{3}{2\\sqrt{3x}} * ln(x) + \\sqrt{3x} * \\frac{1}{x}$"
      ],
      "text/plain": [
       "<IPython.core.display.Math object>"
      ]
     },
     "metadata": {},
     "output_type": "display_data"
    }
   ],
   "source": [
    "display(Math(r'f^{\\prime}(x) = (\\sqrt{3x})^{\\prime} * ln(x) + \\sqrt{3x}*(ln(x))^{\\prime} = \\frac{3}{2\\sqrt{3x}} * ln(x) + \\sqrt{3x} * \\frac{1}{x}'))"
   ]
  },
  {
   "cell_type": "code",
   "execution_count": 72,
   "metadata": {},
   "outputs": [
    {
     "data": {
      "text/latex": [
       "$\\displaystyle f^{\\prime}(1) = \\frac{3}{2\\sqrt{3}} * ln(1) + \\sqrt{3} * \\frac{1}{1} = \\sqrt{3}$"
      ],
      "text/plain": [
       "<IPython.core.display.Math object>"
      ]
     },
     "metadata": {},
     "output_type": "display_data"
    }
   ],
   "source": [
    "display(Math(r'f^{\\prime}(1) = \\frac{3}{2\\sqrt{3}} * ln(1) + \\sqrt{3} * \\frac{1}{1} = \\sqrt{3}'))"
   ]
  },
  {
   "cell_type": "code",
   "execution_count": 73,
   "metadata": {},
   "outputs": [
    {
     "data": {
      "text/latex": [
       "$\\displaystyle tg(\\alpha) = \\sqrt{3}, \\alpha = arctg(\\sqrt{3}) = \\frac{\\pi}{3}$"
      ],
      "text/plain": [
       "<IPython.core.display.Math object>"
      ]
     },
     "metadata": {},
     "output_type": "display_data"
    }
   ],
   "source": [
    "display(Math(r'tg(\\alpha) = \\sqrt{3}, \\alpha = arctg(\\sqrt{3}) = \\frac{\\pi}{3}'))"
   ]
  },
  {
   "cell_type": "code",
   "execution_count": null,
   "metadata": {},
   "outputs": [],
   "source": []
  }
 ],
 "metadata": {
  "kernelspec": {
   "display_name": "Python 3",
   "language": "python",
   "name": "python3"
  },
  "language_info": {
   "codemirror_mode": {
    "name": "ipython",
    "version": 3
   },
   "file_extension": ".py",
   "mimetype": "text/x-python",
   "name": "python",
   "nbconvert_exporter": "python",
   "pygments_lexer": "ipython3",
   "version": "3.8.5"
  }
 },
 "nbformat": 4,
 "nbformat_minor": 4
}
