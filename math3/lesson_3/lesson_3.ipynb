{
 "cells": [
  {
   "cell_type": "code",
   "execution_count": 41,
   "metadata": {},
   "outputs": [],
   "source": [
    "from IPython.display import Image\n",
    "from IPython.core.display import HTML \n",
    "from IPython.display import display, Math, Latex"
   ]
  },
  {
   "cell_type": "markdown",
   "metadata": {},
   "source": [
    "### Тема 3 “Последовательность”"
   ]
  },
  {
   "cell_type": "markdown",
   "metadata": {
    "ExecuteTime": {
     "end_time": "2020-10-03T20:58:04.251946Z",
     "start_time": "2020-10-03T20:58:04.248973Z"
    }
   },
   "source": [
    "**1. Даны 4 последовательности. Необходимо:**"
   ]
  },
  {
   "cell_type": "code",
   "execution_count": 42,
   "metadata": {
    "ExecuteTime": {
     "end_time": "2020-10-03T20:58:47.939874Z",
     "start_time": "2020-10-03T20:58:47.935958Z"
    }
   },
   "outputs": [
    {
     "data": {
      "text/html": [
       "<img src=\"./image4.png\" width=\"400\" height=\"400\"/>"
      ],
      "text/plain": [
       "<IPython.core.display.Image object>"
      ]
     },
     "execution_count": 42,
     "metadata": {},
     "output_type": "execute_result"
    }
   ],
   "source": [
    "Image(url= \"./image4.png\", width=400, height=400)"
   ]
  },
  {
   "cell_type": "markdown",
   "metadata": {},
   "source": [
    "**a. исследовать их на монотонность;**"
   ]
  },
  {
   "cell_type": "markdown",
   "metadata": {},
   "source": [
    "Для каждой последовательности найдем значнения для двух разных n.\n",
    "Если первый (меньший) элемент последовательности больше второго, то можно сказать, \n",
    "что последовательность монотонно возрастает. \n",
    "Иначе, монотонно убывает"
   ]
  },
  {
   "cell_type": "code",
   "execution_count": 43,
   "metadata": {
    "ExecuteTime": {
     "end_time": "2020-10-04T08:45:21.513687Z",
     "start_time": "2020-10-04T08:45:21.505814Z"
    }
   },
   "outputs": [
    {
     "data": {
      "text/latex": [
       "$\\displaystyle a_{n=1} = 2^1 - 1 = 1$"
      ],
      "text/plain": [
       "<IPython.core.display.Math object>"
      ]
     },
     "metadata": {},
     "output_type": "display_data"
    },
    {
     "data": {
      "text/latex": [
       "$\\displaystyle a_{n=2} = 2^2 - 2 = 2$"
      ],
      "text/plain": [
       "<IPython.core.display.Math object>"
      ]
     },
     "metadata": {},
     "output_type": "display_data"
    },
    {
     "data": {
      "text/latex": [
       "$\\displaystyle a_n - возврастает$"
      ],
      "text/plain": [
       "<IPython.core.display.Math object>"
      ]
     },
     "metadata": {},
     "output_type": "display_data"
    }
   ],
   "source": [
    "display(Math(r'a_{n=1} = 2^1 - 1 = 1'))\n",
    "display(Math(r'a_{n=2} = 2^2 - 2 = 2'))\n",
    "display(Math(r'a_n - возврастает'))"
   ]
  },
  {
   "cell_type": "code",
   "execution_count": 44,
   "metadata": {
    "ExecuteTime": {
     "end_time": "2020-10-03T21:12:46.828026Z",
     "start_time": "2020-10-03T21:12:46.822083Z"
    }
   },
   "outputs": [
    {
     "data": {
      "text/latex": [
       "$\\displaystyle b_{n=2} = \\frac{1}{1-2} = -1$"
      ],
      "text/plain": [
       "<IPython.core.display.Math object>"
      ]
     },
     "metadata": {},
     "output_type": "display_data"
    },
    {
     "data": {
      "text/latex": [
       "$\\displaystyle b_{n=3} = \\frac{1}{1-3} = -0.5$"
      ],
      "text/plain": [
       "<IPython.core.display.Math object>"
      ]
     },
     "metadata": {},
     "output_type": "display_data"
    },
    {
     "data": {
      "text/latex": [
       "$\\displaystyle b_n - возврастает$"
      ],
      "text/plain": [
       "<IPython.core.display.Math object>"
      ]
     },
     "metadata": {},
     "output_type": "display_data"
    }
   ],
   "source": [
    "display(Math(r'b_{n=2} = \\frac{1}{1-2} = -1'))\n",
    "display(Math(r'b_{n=3} = \\frac{1}{1-3} = -0.5'))\n",
    "display(Math(r'b_n - возврастает'))"
   ]
  },
  {
   "cell_type": "code",
   "execution_count": 45,
   "metadata": {
    "ExecuteTime": {
     "end_time": "2020-10-03T21:19:38.097383Z",
     "start_time": "2020-10-03T21:19:38.089818Z"
    }
   },
   "outputs": [
    {
     "data": {
      "text/latex": [
       "$\\displaystyle c_{n=2} = -1^2 + \\sqrt{2*2} = 3$"
      ],
      "text/plain": [
       "<IPython.core.display.Math object>"
      ]
     },
     "metadata": {},
     "output_type": "display_data"
    },
    {
     "data": {
      "text/latex": [
       "$\\displaystyle c_{n=72} = -1^{72} + \\sqrt{2*72} = 13$"
      ],
      "text/plain": [
       "<IPython.core.display.Math object>"
      ]
     },
     "metadata": {},
     "output_type": "display_data"
    },
    {
     "data": {
      "text/latex": [
       "$\\displaystyle c_n - возврастает$"
      ],
      "text/plain": [
       "<IPython.core.display.Math object>"
      ]
     },
     "metadata": {},
     "output_type": "display_data"
    }
   ],
   "source": [
    "display(Math(r'c_{n=2} = -1^2 + \\sqrt{2*2} = 3'))\n",
    "display(Math(r'c_{n=72} = -1^{72} + \\sqrt{2*72} = 13'))\n",
    "display(Math(r'c_n - возврастает'))"
   ]
  },
  {
   "cell_type": "code",
   "execution_count": 46,
   "metadata": {
    "ExecuteTime": {
     "end_time": "2020-10-03T21:22:47.832475Z",
     "start_time": "2020-10-03T21:22:47.825439Z"
    }
   },
   "outputs": [
    {
     "data": {
      "text/latex": [
       "$\\displaystyle d_{n=1} = (-1)^{2*1} + \\frac{1}{1^2} = 2$"
      ],
      "text/plain": [
       "<IPython.core.display.Math object>"
      ]
     },
     "metadata": {},
     "output_type": "display_data"
    },
    {
     "data": {
      "text/latex": [
       "$\\displaystyle d_{n=2} = (-1)^{2*2} + \\frac{1}{2^2} = 1.5$"
      ],
      "text/plain": [
       "<IPython.core.display.Math object>"
      ]
     },
     "metadata": {},
     "output_type": "display_data"
    },
    {
     "data": {
      "text/latex": [
       "$\\displaystyle d_n - убывает$"
      ],
      "text/plain": [
       "<IPython.core.display.Math object>"
      ]
     },
     "metadata": {},
     "output_type": "display_data"
    }
   ],
   "source": [
    "display(Math(r'd_{n=1} = (-1)^{2*1} + \\frac{1}{1^2} = 2'))\n",
    "display(Math(r'd_{n=2} = (-1)^{2*2} + \\frac{1}{2^2} = 1.5'))\n",
    "display(Math(r'd_n - убывает'))"
   ]
  },
  {
   "cell_type": "markdown",
   "metadata": {
    "ExecuteTime": {
     "end_time": "2020-10-03T21:23:41.708787Z",
     "start_time": "2020-10-03T21:23:41.704820Z"
    }
   },
   "source": [
    "**b. исследовать на ограниченность;**"
   ]
  },
  {
   "cell_type": "code",
   "execution_count": 47,
   "metadata": {
    "ExecuteTime": {
     "end_time": "2020-10-04T08:46:08.659758Z",
     "start_time": "2020-10-04T08:46:08.648633Z"
    }
   },
   "outputs": [
    {
     "data": {
      "text/latex": [
       "$\\displaystyle a_n - \\textrm{является ограниченной снизу, так как для любого натурального номера n выполняется неравенство}$"
      ],
      "text/plain": [
       "<IPython.core.display.Math object>"
      ]
     },
     "metadata": {},
     "output_type": "display_data"
    },
    {
     "data": {
      "text/latex": [
       "$\\displaystyle 0 < 2^n - n$"
      ],
      "text/plain": [
       "<IPython.core.display.Math object>"
      ]
     },
     "metadata": {},
     "output_type": "display_data"
    }
   ],
   "source": [
    "display(Math(r'a_n - \\textrm{является ограниченной снизу, так как для любого натурального номера n выполняется неравенство}'))\n",
    "display(Math(r'0 < 2^n - n'))"
   ]
  },
  {
   "cell_type": "code",
   "execution_count": 48,
   "metadata": {
    "ExecuteTime": {
     "end_time": "2020-10-04T08:39:49.891951Z",
     "start_time": "2020-10-04T08:39:49.884684Z"
    }
   },
   "outputs": [
    {
     "data": {
      "text/latex": [
       "$\\displaystyle b_{n=2} - \\textrm{является ограниченной, так как для любого натурального номера n выполняется неравенство}$"
      ],
      "text/plain": [
       "<IPython.core.display.Math object>"
      ]
     },
     "metadata": {},
     "output_type": "display_data"
    },
    {
     "data": {
      "text/latex": [
       "$\\displaystyle -1 \\leq \\frac{1}{1-n} <0$"
      ],
      "text/plain": [
       "<IPython.core.display.Math object>"
      ]
     },
     "metadata": {},
     "output_type": "display_data"
    }
   ],
   "source": [
    "display(Math(r'b_{n=2} - \\textrm{является ограниченной, так как для любого натурального номера n выполняется неравенство}'))\n",
    "display(Math(r'-1 \\leq \\frac{1}{1-n} <0'))"
   ]
  },
  {
   "cell_type": "code",
   "execution_count": 49,
   "metadata": {
    "ExecuteTime": {
     "end_time": "2020-10-04T08:56:37.034882Z",
     "start_time": "2020-10-04T08:56:37.021261Z"
    }
   },
   "outputs": [
    {
     "data": {
      "text/latex": [
       "$\\displaystyle c_n - ???$"
      ],
      "text/plain": [
       "<IPython.core.display.Math object>"
      ]
     },
     "metadata": {},
     "output_type": "display_data"
    }
   ],
   "source": [
    "display(Math(r'c_n - ???'))"
   ]
  },
  {
   "cell_type": "code",
   "execution_count": 50,
   "metadata": {
    "ExecuteTime": {
     "end_time": "2020-10-04T09:18:29.928757Z",
     "start_time": "2020-10-04T09:18:29.920193Z"
    }
   },
   "outputs": [
    {
     "data": {
      "text/latex": [
       "$\\displaystyle d_n - ???$"
      ],
      "text/plain": [
       "<IPython.core.display.Math object>"
      ]
     },
     "metadata": {},
     "output_type": "display_data"
    }
   ],
   "source": [
    "display(Math(r'd_n - ???'))"
   ]
  },
  {
   "cell_type": "markdown",
   "metadata": {
    "ExecuteTime": {
     "end_time": "2020-10-04T09:20:46.273530Z",
     "start_time": "2020-10-04T09:20:46.269515Z"
    }
   },
   "source": [
    "**c. найти пятый по счету член.**"
   ]
  },
  {
   "cell_type": "code",
   "execution_count": 51,
   "metadata": {
    "ExecuteTime": {
     "end_time": "2020-10-04T09:24:38.723899Z",
     "start_time": "2020-10-04T09:24:38.714567Z"
    }
   },
   "outputs": [
    {
     "data": {
      "text/latex": [
       "$\\displaystyle a_5 = 2^5 - 5 = 27$"
      ],
      "text/plain": [
       "<IPython.core.display.Math object>"
      ]
     },
     "metadata": {},
     "output_type": "display_data"
    },
    {
     "data": {
      "text/latex": [
       "$\\displaystyle b_6 = \\frac{1}{1-6} = 0.2$"
      ],
      "text/plain": [
       "<IPython.core.display.Math object>"
      ]
     },
     "metadata": {},
     "output_type": "display_data"
    },
    {
     "data": {
      "text/latex": [
       "$\\displaystyle c_5 = -1^5 + \\sqrt{2*5} = \\sqrt{10}-1$"
      ],
      "text/plain": [
       "<IPython.core.display.Math object>"
      ]
     },
     "metadata": {},
     "output_type": "display_data"
    },
    {
     "data": {
      "text/latex": [
       "$\\displaystyle d_5 = -1^{2*5} + \\frac{1}{5^2} = 1+ \\frac{1}{25} = 1.04$"
      ],
      "text/plain": [
       "<IPython.core.display.Math object>"
      ]
     },
     "metadata": {},
     "output_type": "display_data"
    }
   ],
   "source": [
    "display(Math(r'a_5 = 2^5 - 5 = 27'))\n",
    "display(Math(r'b_6 = \\frac{1}{1-6} = 0.2'))\n",
    "display(Math(r'c_5 = -1^5 + \\sqrt{2*5} = \\sqrt{10}-1'))\n",
    "display(Math(r'd_5 = -1^{2*5} + \\frac{1}{5^2} = 1+ \\frac{1}{25} = 1.04'))"
   ]
  },
  {
   "cell_type": "markdown",
   "metadata": {
    "ExecuteTime": {
     "end_time": "2020-10-04T09:26:19.177794Z",
     "start_time": "2020-10-04T09:26:19.174949Z"
    }
   },
   "source": [
    "**Найти 12-й член заданной неявно последовательности**"
   ]
  },
  {
   "cell_type": "code",
   "execution_count": 52,
   "metadata": {
    "ExecuteTime": {
     "end_time": "2020-10-04T09:29:25.427410Z",
     "start_time": "2020-10-04T09:29:25.425163Z"
    }
   },
   "outputs": [
    {
     "data": {
      "text/latex": [
       "$\\displaystyle a_1 = 128, a_{n+1} - a_n = 6$"
      ],
      "text/plain": [
       "<IPython.core.display.Math object>"
      ]
     },
     "metadata": {},
     "output_type": "display_data"
    }
   ],
   "source": [
    "display(Math(r'a_1 = 128, a_{n+1} - a_n = 6'))"
   ]
  },
  {
   "cell_type": "code",
   "execution_count": 53,
   "metadata": {},
   "outputs": [
    {
     "data": {
      "text/latex": [
       "$\\displaystyle a_{n+1} = 6*n + a_1$"
      ],
      "text/plain": [
       "<IPython.core.display.Math object>"
      ]
     },
     "metadata": {},
     "output_type": "display_data"
    }
   ],
   "source": [
    "# Формула вычисления элемента n+1\n",
    "display(Math(r'a_{n+1} = 6*n + a_1'))"
   ]
  },
  {
   "cell_type": "code",
   "execution_count": 54,
   "metadata": {},
   "outputs": [
    {
     "data": {
      "text/latex": [
       "$\\displaystyle a_5 = 6*4 + 128 = 152$"
      ],
      "text/plain": [
       "<IPython.core.display.Math object>"
      ]
     },
     "metadata": {},
     "output_type": "display_data"
    }
   ],
   "source": [
    "display(Math(r'a_5 = 6*4 + 128 = 152'))"
   ]
  },
  {
   "cell_type": "code",
   "execution_count": null,
   "metadata": {},
   "outputs": [],
   "source": []
  }
 ],
 "metadata": {
  "kernelspec": {
   "display_name": "Python 3",
   "language": "python",
   "name": "python3"
  },
  "language_info": {
   "codemirror_mode": {
    "name": "ipython",
    "version": 3
   },
   "file_extension": ".py",
   "mimetype": "text/x-python",
   "name": "python",
   "nbconvert_exporter": "python",
   "pygments_lexer": "ipython3",
   "version": "3.8.5"
  }
 },
 "nbformat": 4,
 "nbformat_minor": 4
}
