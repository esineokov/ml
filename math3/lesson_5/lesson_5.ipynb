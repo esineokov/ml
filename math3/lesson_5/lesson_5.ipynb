{
 "cells": [
  {
   "cell_type": "code",
   "execution_count": 22,
   "metadata": {},
   "outputs": [],
   "source": [
    "from IPython.display import Image\n",
    "from IPython.core.display import HTML \n",
    "from IPython.display import display, Math, Latex\n",
    "import matplotlib.pyplot as plt\n",
    "import numpy as np"
   ]
  },
  {
   "cell_type": "markdown",
   "metadata": {},
   "source": [
    "**Тема “Теоремы о пределах”**"
   ]
  },
  {
   "cell_type": "markdown",
   "metadata": {},
   "source": [
    "**1. Найти предел:**"
   ]
  },
  {
   "cell_type": "code",
   "execution_count": 34,
   "metadata": {},
   "outputs": [
    {
     "data": {
      "text/latex": [
       "$\\displaystyle \\textbf{d.} \\lim\\limits_{x \\to \\infty} \\left(\\frac{4x+3}{4x-3}\\right)^{6x} = (1)^\\infty = \\lim\\limits_{x \\to \\infty} U^V = e^{\\lim\\limits_{x \\to \\infty} (U-1)V} = e^{\\lim\\limits_{x \\to \\infty} \\left( \\frac{4x+3}{4x-3} - 1 \\right)6x } = e^{\\lim\\limits_{x \\to \\infty} \\frac{36x}{4x-3}} = e^9$"
      ],
      "text/plain": [
       "<IPython.core.display.Math object>"
      ]
     },
     "metadata": {},
     "output_type": "display_data"
    }
   ],
   "source": [
    "display(Math(r'\\textbf{d.} \\lim\\limits_{x \\to \\infty} \\left(\\frac{4x+3}{4x-3}\\right)^{6x} = (1)^\\infty = \\lim\\limits_{x \\to \\infty} U^V = e^{\\lim\\limits_{x \\to \\infty} (U-1)V} = e^{\\lim\\limits_{x \\to \\infty} \\left( \\frac{4x+3}{4x-3} - 1 \\right)6x } = e^{\\lim\\limits_{x \\to \\infty} \\frac{36x}{4x-3}} = e^9'))"
   ]
  },
  {
   "cell_type": "code",
   "execution_count": 39,
   "metadata": {},
   "outputs": [
    {
     "data": {
      "text/latex": [
       "$\\displaystyle \\textbf{e.} \\lim\\limits_{x \\to \\infty} \\frac{sin(x) + ln(x)}{x} = \\lim\\limits_{x \\to \\infty} \\frac{sin(x)}{x} + \\lim\\limits_{x \\to \\infty} \\frac{ln(x)}{x} = 0 + 0 = 0$"
      ],
      "text/plain": [
       "<IPython.core.display.Math object>"
      ]
     },
     "metadata": {},
     "output_type": "display_data"
    }
   ],
   "source": [
    "display(Math(r'\\textbf{e.} \\lim\\limits_{x \\to \\infty} \\frac{sin(x) + ln(x)}{x} = \\lim\\limits_{x \\to \\infty} \\frac{sin(x)}{x} + \\lim\\limits_{x \\to \\infty} \\frac{ln(x)}{x} = 0 + 0 = 0'))"
   ]
  },
  {
   "cell_type": "markdown",
   "metadata": {},
   "source": [
    "**Тема 6 “Понятие о производной”**"
   ]
  },
  {
   "cell_type": "markdown",
   "metadata": {},
   "source": [
    "**1. Найти производную выражения:**"
   ]
  },
  {
   "cell_type": "code",
   "execution_count": 53,
   "metadata": {},
   "outputs": [
    {
     "data": {
      "text/latex": [
       "$\\displaystyle \\textbf{a. } (sin x * cos x)^{\\prime} = sin x^{\\prime} cos(x) + cos x^{\\prime} sin x = cos^2x - sin^2x$"
      ],
      "text/plain": [
       "<IPython.core.display.Math object>"
      ]
     },
     "metadata": {},
     "output_type": "display_data"
    }
   ],
   "source": [
    "display(Math(r'\\textbf{a. } (sin x * cos x)^{\\prime} = sin x^{\\prime} cos(x) + cos x^{\\prime} sin x = cos^2x - sin^2x'))"
   ]
  },
  {
   "cell_type": "code",
   "execution_count": 57,
   "metadata": {},
   "outputs": [
    {
     "data": {
      "text/latex": [
       "$\\displaystyle \\textbf{b. } (ln(2x+1^3))^{\\prime} = (2x+1)^{-3}*3*(2x+1)^2*2 = \\frac{6}{2x+1}$"
      ],
      "text/plain": [
       "<IPython.core.display.Math object>"
      ]
     },
     "metadata": {},
     "output_type": "display_data"
    }
   ],
   "source": [
    "display(Math(r'\\textbf{b. } (ln(2x+1^3))^{\\prime} = (2x+1)^{-3}*3*(2x+1)^2*2 = \\frac{6}{2x+1}'))"
   ]
  },
  {
   "cell_type": "code",
   "execution_count": 59,
   "metadata": {},
   "outputs": [
    {
     "data": {
      "text/latex": [
       "$\\displaystyle \\textbf{d. } \\left( \\frac{x^4}{ln(x)} \\right)^{\\prime} = (2x+1)^{-3}*3*(2x+1)^2*2 = \\frac{6}{2x+1}$"
      ],
      "text/plain": [
       "<IPython.core.display.Math object>"
      ]
     },
     "metadata": {},
     "output_type": "display_data"
    }
   ],
   "source": [
    "display(Math(r'\\textbf{d. } \\left( \\frac{x^4}{ln(x)} \\right)^{\\prime} = (2x+1)^{-3}*3*(2x+1)^2*2 = \\frac{6}{2x+1}'))"
   ]
  },
  {
   "cell_type": "code",
   "execution_count": null,
   "metadata": {},
   "outputs": [],
   "source": []
  }
 ],
 "metadata": {
  "kernelspec": {
   "display_name": "Python 3",
   "language": "python",
   "name": "python3"
  },
  "language_info": {
   "codemirror_mode": {
    "name": "ipython",
    "version": 3
   },
   "file_extension": ".py",
   "mimetype": "text/x-python",
   "name": "python",
   "nbconvert_exporter": "python",
   "pygments_lexer": "ipython3",
   "version": "3.8.5"
  }
 },
 "nbformat": 4,
 "nbformat_minor": 4
}
