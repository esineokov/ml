{
 "cells": [
  {
   "cell_type": "code",
   "execution_count": 1,
   "metadata": {},
   "outputs": [],
   "source": [
    "from IPython.display import Image\n",
    "from IPython.core.display import HTML \n",
    "from IPython.display import display, Math, Latex\n",
    "import matplotlib.pyplot as plt\n",
    "import numpy as np"
   ]
  },
  {
   "cell_type": "markdown",
   "metadata": {},
   "source": [
    "***Исследовать функцию на условный экстремум***"
   ]
  },
  {
   "cell_type": "code",
   "execution_count": 5,
   "metadata": {},
   "outputs": [
    {
     "data": {
      "text/latex": [
       "$\\displaystyle U = 3 - 8x + 6y$"
      ],
      "text/plain": [
       "<IPython.core.display.Math object>"
      ]
     },
     "metadata": {},
     "output_type": "display_data"
    },
    {
     "data": {
      "text/latex": [
       "$\\displaystyle если$"
      ],
      "text/plain": [
       "<IPython.core.display.Math object>"
      ]
     },
     "metadata": {},
     "output_type": "display_data"
    },
    {
     "data": {
      "text/latex": [
       "$\\displaystyle x^2 + y^2 = 36$"
      ],
      "text/plain": [
       "<IPython.core.display.Math object>"
      ]
     },
     "metadata": {},
     "output_type": "display_data"
    }
   ],
   "source": [
    "# 1.\n",
    "display(Math(r'U = 3 - 8x + 6y'))\n",
    "display(Math(r'если'))\n",
    "display(Math(r'x^2 + y^2 = 36'))"
   ]
  },
  {
   "cell_type": "code",
   "execution_count": 27,
   "metadata": {},
   "outputs": [
    {
     "data": {
      "text/latex": [
       "$\\displaystyle L(\\lambda_1,x,y) = 3 -8x + 6y + \\lambda_1 (x^2 + y^2 - 25)$"
      ],
      "text/plain": [
       "<IPython.core.display.Math object>"
      ]
     },
     "metadata": {},
     "output_type": "display_data"
    }
   ],
   "source": [
    "display(Math(r'L(\\lambda_1,x,y) = 3 -8x + 6y + \\lambda_1 (x^2 + y^2 - 25)'))"
   ]
  },
  {
   "cell_type": "code",
   "execution_count": 29,
   "metadata": {},
   "outputs": [
    {
     "data": {
      "text/latex": [
       "$\\displaystyle \\begin{cases} L_x^{\\prime} = -8 + \\lambda_1 * 2x = 0 \\\\ L_y^{\\prime} = 6 + \\lambda_1 * 2y = 0 \\\\ L_{\\lambda_{1}}^{\\prime} = x^2 + y^2 - 36 = 0 \\end{cases}$"
      ],
      "text/plain": [
       "<IPython.core.display.Math object>"
      ]
     },
     "metadata": {},
     "output_type": "display_data"
    }
   ],
   "source": [
    "display(Math(r'\\begin{cases} L_x^{\\prime} = -8 + \\lambda_1 * 2x = 0 \\\\ L_y^{\\prime} = 6 + \\lambda_1 * 2y = 0 \\\\ L_{\\lambda_{1}}^{\\prime} = x^2 + y^2 - 36 = 0 \\end{cases}'))"
   ]
  },
  {
   "cell_type": "code",
   "execution_count": 32,
   "metadata": {},
   "outputs": [
    {
     "data": {
      "text/latex": [
       "$\\displaystyle \\begin{cases} x = \\frac{4}{\\lambda_1} \\\\ y = - \\frac{3}{\\lambda_1} \\\\ \\frac{16}{\\lambda_1^2} + \\frac{9}{\\lambda_1^2}=36 \\end{cases}$"
      ],
      "text/plain": [
       "<IPython.core.display.Math object>"
      ]
     },
     "metadata": {},
     "output_type": "display_data"
    }
   ],
   "source": [
    "display(Math(r'\\begin{cases} x = \\frac{4}{\\lambda_1} \\\\ y = - \\frac{3}{\\lambda_1} \\\\ \\frac{16}{\\lambda_1^2} + \\frac{9}{\\lambda_1^2}=36 \\end{cases}'))"
   ]
  },
  {
   "cell_type": "code",
   "execution_count": 33,
   "metadata": {},
   "outputs": [
    {
     "data": {
      "text/latex": [
       "$\\displaystyle \\begin{cases} x = \\frac{4}{\\lambda_1} \\\\ y = - \\frac{3}{\\lambda_1} \\\\ \\lambda_1^2 = \\frac{25}{36} \\end{cases}$"
      ],
      "text/plain": [
       "<IPython.core.display.Math object>"
      ]
     },
     "metadata": {},
     "output_type": "display_data"
    }
   ],
   "source": [
    "display(Math(r'\\begin{cases} x = \\frac{4}{\\lambda_1} \\\\ y = - \\frac{3}{\\lambda_1} \\\\ \\lambda_1^2 = \\frac{25}{36} \\end{cases}'))"
   ]
  },
  {
   "cell_type": "code",
   "execution_count": 34,
   "metadata": {},
   "outputs": [
    {
     "data": {
      "text/latex": [
       "$\\displaystyle \\left(\\frac{5}{6},\\frac{24}{5},-\\frac{18}{5} \\right), \\left( -\\frac{5}{6},-\\frac{24}{5},\\frac{18}{5}\\right)$"
      ],
      "text/plain": [
       "<IPython.core.display.Math object>"
      ]
     },
     "metadata": {},
     "output_type": "display_data"
    }
   ],
   "source": [
    "display(Math(r'\\left(\\frac{5}{6},\\frac{24}{5},-\\frac{18}{5} \\right), \\left( -\\frac{5}{6},-\\frac{24}{5},\\frac{18}{5}\\right)'))"
   ]
  },
  {
   "cell_type": "code",
   "execution_count": null,
   "metadata": {},
   "outputs": [],
   "source": []
  }
 ],
 "metadata": {
  "kernelspec": {
   "display_name": "Python 3",
   "language": "python",
   "name": "python3"
  },
  "language_info": {
   "codemirror_mode": {
    "name": "ipython",
    "version": 3
   },
   "file_extension": ".py",
   "mimetype": "text/x-python",
   "name": "python",
   "nbconvert_exporter": "python",
   "pygments_lexer": "ipython3",
   "version": "3.8.5"
  }
 },
 "nbformat": 4,
 "nbformat_minor": 4
}
